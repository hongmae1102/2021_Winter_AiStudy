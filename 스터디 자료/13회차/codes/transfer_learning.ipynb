{
  "cells": [
    {
      "cell_type": "code",
      "source": [
        "import tensorflow as tf\n",
        "\n",
        "import os\n",
        "import numpy as np\n",
        "import matplotlib.pyplot as plt\n",
        "import PIL.Image as Image\n",
        "import random\n",
        "\n",
        "\n",
        "#"
      ],
      "outputs": [],
      "execution_count": null,
      "metadata": {
        "collapsed": true,
        "jupyter": {
          "source_hidden": false,
          "outputs_hidden": false
        },
        "nteract": {
          "transient": {
            "deleting": false
          }
        }
      }
    },
    {
      "cell_type": "code",
      "source": [
        "\n",
        "input_width = 224\n",
        "input_height = 224\n",
        "input_channel = 3\n",
        "\n",
        "num_class = 4\n",
        "\n",
        "BATCH_SIZE = 16\n",
        "\n",
        "img_dir = './data/'\n",
        "labels = os.listdir(img_dir)\n",
        "\n",
        "datagen = tf.keras.preprocessing.image.ImageDataGenerator(\n",
        "    rescale=1./255,\n",
        "    validation_split = 0.1)\n",
        "\n",
        "train_generator = datagen.flow_from_directory(\n",
        "    img_dir,\n",
        "    target_size=(input_width, input_height),\n",
        "    batch_size=BATCH_SIZE,\n",
        "    subset='training')\n",
        "\n",
        "val_generator = datagen.flow_from_directory(\n",
        "    img_dir,\n",
        "    target_size=(input_width, input_height),\n",
        "    batch_size=BATCH_SIZE,\n",
        "    subset='validation')\n",
        "\n",
        "print(train_generator.class_indices)\n",
        "\n",
        "\n",
        "#"
      ],
      "outputs": [],
      "execution_count": null,
      "metadata": {
        "collapsed": true,
        "jupyter": {
          "source_hidden": false,
          "outputs_hidden": false
        },
        "nteract": {
          "transient": {
            "deleting": false
          }
        }
      }
    },
    {
      "cell_type": "code",
      "source": [
        "base_model = tf.keras.applications.VGG16(input_shape = (input_width, input_height, input_channel),\n",
        "                                        include_top = False,\n",
        "                                        weights = None)\n",
        "\n",
        "\n",
        "base_model.summary()\n",
        "\n",
        "\n",
        "#"
      ],
      "outputs": [],
      "execution_count": null,
      "metadata": {
        "collapsed": true,
        "jupyter": {
          "source_hidden": false,
          "outputs_hidden": false
        },
        "nteract": {
          "transient": {
            "deleting": false
          }
        }
      }
    },
    {
      "cell_type": "code",
      "source": [
        "\n",
        "model = tf.keras.Sequential([\n",
        "    base_model,\n",
        "    tf.keras.layers.Flatten(),\n",
        "    tf.keras.layers.Dense(num_class, activation='softmax')\n",
        "])\n",
        "\n",
        "model.summary()\n",
        "\n",
        "\n",
        "#"
      ],
      "outputs": [],
      "execution_count": null,
      "metadata": {
        "collapsed": true,
        "jupyter": {
          "source_hidden": false,
          "outputs_hidden": false
        },
        "nteract": {
          "transient": {
            "deleting": false
          }
        }
      }
    },
    {
      "cell_type": "code",
      "source": [
        "\n",
        "model.compile(optimizer=tf.keras.optimizers.Adam(learning_rate = 1e-4),\n",
        "              loss='CategoricalCrossentropy',\n",
        "              metrics=['accuracy'])\n",
        "\n",
        "history = model.fit(train_generator,\n",
        "                    epochs = 5,\n",
        "                    validation_data=val_generator)\n",
        "\n",
        "\n",
        "# Epoch 1/5\n",
        "#  2/27 [=>............................] - ETA: 4s - loss: 1.4161 - accuracy: 0.3125WARNING:tensorflow:Callbacks method `on_train_batch_end` is slow compared to the batch time (batch time: 0.1032s vs `on_train_batch_end` time: 0.2725s). Check your callbacks.\n",
        "# 27/27 [==============================] - 15s 563ms/step - loss: 0.4176 - accuracy: 0.8447 - val_loss: 0.1802 - val_accuracy: 0.954\n",
        "# Epoch 2/5\n",
        "# 27/27 [==============================] - 11s 416ms/step - loss: 0.0446 - accuracy: 0.9812 - val_loss: 0.2144 - val_accuracy: 0.954\n",
        "# Epoch 3/5\n",
        "# 27/27 [==============================] - 11s 416ms/step - loss: 0.0231 - accuracy: 0.9906 - val_loss: 0.0544 - val_accuracy: 0.977\n",
        "# Epoch 4/5\n",
        "# 27/27 [==============================] - 11s 417ms/step - loss: 0.0639 - accuracy: 0.9812 - val_loss: 0.0356 - val_accuracy: 1.000\n",
        "# Epoch 5/5\n",
        "# 27/27 [==============================] - 11s 416ms/step - loss: 0.0079 - accuracy: 0.9976 - val_loss: 0.1725 - val_accuracy: 0.954\n",
        "\n",
        "\n",
        "#"
      ],
      "outputs": [],
      "execution_count": null,
      "metadata": {
        "collapsed": true,
        "jupyter": {
          "source_hidden": false,
          "outputs_hidden": false
        },
        "nteract": {
          "transient": {
            "deleting": false
          }
        }
      }
    },
    {
      "cell_type": "code",
      "source": [
        "acc = history.history['accuracy']\n",
        "val_acc = history.history['val_accuracy']\n",
        "\n",
        "loss = history.history['loss']\n",
        "val_loss = history.history['val_loss']\n",
        "\n",
        "plt.figure(figsize=(8, 8))\n",
        "plt.subplot(2, 1, 1)\n",
        "plt.plot(acc, label='Training Accuracy')\n",
        "plt.plot(val_acc, label='Validation Accuracy')\n",
        "plt.legend(loc='lower right')\n",
        "plt.ylabel('Accuracy')\n",
        "plt.ylim([min(plt.ylim()),1])\n",
        "plt.title('Training and Validation Accuracy')\n",
        "\n",
        "plt.subplot(2, 1, 2)\n",
        "plt.plot(loss, label='Training Loss')\n",
        "plt.plot(val_loss, label='Validation Loss')\n",
        "plt.legend(loc='upper right')\n",
        "plt.ylabel('Cross Entropy')\n",
        "plt.ylim([0,1.0])\n",
        "plt.title('Training and Validation Loss')\n",
        "plt.xlabel('epoch')\n",
        "plt.show()\n",
        "\n",
        "#"
      ],
      "outputs": [],
      "execution_count": null,
      "metadata": {
        "collapsed": true,
        "jupyter": {
          "source_hidden": false,
          "outputs_hidden": false
        },
        "nteract": {
          "transient": {
            "deleting": false
          }
        }
      }
    },
    {
      "cell_type": "code",
      "source": [
        "\n",
        "import time\n",
        "\n",
        "labels\n",
        "\n",
        "img_list = os.listdir('./test_imgs/')\n",
        "\n",
        "inference_time_list = []\n",
        "acc = []\n",
        "\n",
        "for img_file in img_list:\n",
        "    img = Image.open(\"./test_imgs/\"+img_file).resize([input_width, input_height])\n",
        "\n",
        "    img_array = np.array(img)\n",
        "    img_array = np.expand_dims(img_array, 0)\n",
        "    img_array = img_array / 255.0\n",
        "\n",
        "    strt_time = time.time()\n",
        "    predicted = model.predict(img_array)\n",
        "    end_time = time.time()\n",
        "\n",
        "    inference_time_list.append(end_time-strt_time)\n",
        "\n",
        "    res = np.argmax(predicted)\n",
        "\n",
        "    if labels[res] == img_file.split(\"_\")[0]:\n",
        "        acc.append(1)\n",
        "    else : acc.append(0)\n",
        "\n",
        "print(np.mean(inference_time_list))\n",
        "print(np.mean(acc))"
      ],
      "outputs": [],
      "execution_count": null,
      "metadata": {
        "collapsed": true,
        "jupyter": {
          "source_hidden": false,
          "outputs_hidden": false
        },
        "nteract": {
          "transient": {
            "deleting": false
          }
        }
      }
    }
  ],
  "metadata": {},
  "nbformat": 4,
  "nbformat_minor": 0
}