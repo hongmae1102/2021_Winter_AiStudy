{
  "nbformat": 4,
  "nbformat_minor": 0,
  "metadata": {
    "colab": {
      "name": "SMARCLE_2021겨울스터디_1주차_모딥3장.ipynb",
      "provenance": [],
      "collapsed_sections": []
    },
    "kernelspec": {
      "name": "python3",
      "display_name": "Python 3"
    }
  },
  "cells": [
    {
      "cell_type": "markdown",
      "metadata": {
        "id": "aRrRuXCemLZs"
      },
      "source": [
        "1. 최소제곱법"
      ]
    },
    {
      "cell_type": "code",
      "metadata": {
        "id": "q36xOikXmRQT"
      },
      "source": [
        "# shift+enter 실행 단축키\r\n",
        "# alt+enter 코드 창 생성\r\n",
        "import numpy as np\r\n"
      ],
      "execution_count": null,
      "outputs": []
    },
    {
      "cell_type": "code",
      "metadata": {
        "colab": {
          "base_uri": "https://localhost:8080/"
        },
        "id": "QinC-ZekmswT",
        "outputId": "cd87c5a9-1c95-42a7-c404-9f65dd5fe21e"
      },
      "source": [
        "#data를 넣어주자\r\n",
        "x=[2, 4, 6, 8]\r\n",
        "y=[81, 93, 91, 97]\r\n",
        "print(\"x=\",x)\r\n",
        "print(\"y=\", y)"
      ],
      "execution_count": null,
      "outputs": [
        {
          "output_type": "stream",
          "text": [
            "x= [2, 4, 6, 8]\n",
            "y= [81, 93, 91, 97]\n"
          ],
          "name": "stdout"
        }
      ]
    },
    {
      "cell_type": "code",
      "metadata": {
        "colab": {
          "base_uri": "https://localhost:8080/"
        },
        "id": "5Bp7rC7znDy6",
        "outputId": "4b073c90-64e4-47e6-aa6c-26b0730ef2b1"
      },
      "source": [
        "#x, y평균 계산하기\r\n",
        "mx=np.mean(x)\r\n",
        "my=np.mean(y)\r\n",
        "print(mx)\r\n",
        "print(my)"
      ],
      "execution_count": null,
      "outputs": [
        {
          "output_type": "stream",
          "text": [
            "5.0\n",
            "90.5\n"
          ],
          "name": "stdout"
        }
      ]
    },
    {
      "cell_type": "code",
      "metadata": {
        "colab": {
          "base_uri": "https://localhost:8080/"
        },
        "id": "N23f4J1_ncGD",
        "outputId": "9e43bd9e-1b7f-492c-8862-ffffe8880e92"
      },
      "source": [
        "#a의 분모\r\n",
        "divisor=sum([(i-mx)**2 for i in x])\r\n",
        "print(divisor)"
      ],
      "execution_count": null,
      "outputs": [
        {
          "output_type": "stream",
          "text": [
            "20.0\n"
          ],
          "name": "stdout"
        }
      ]
    },
    {
      "cell_type": "code",
      "metadata": {
        "colab": {
          "base_uri": "https://localhost:8080/"
        },
        "id": "6GFZoHDln9-R",
        "outputId": "e84f1457-dda9-4185-d803-017685877676"
      },
      "source": [
        "#a의 분자\r\n",
        "def top(x, mx, y, my):\r\n",
        "  result=0\r\n",
        "  for i in range(len(x)):\r\n",
        "    result+=(x[i]-mx)*(y[i]-my)\r\n",
        "  return result\r\n",
        "dividend=top(x, mx, y, my)\r\n",
        "print(dividend)"
      ],
      "execution_count": null,
      "outputs": [
        {
          "output_type": "stream",
          "text": [
            "46.0\n"
          ],
          "name": "stdout"
        }
      ]
    },
    {
      "cell_type": "code",
      "metadata": {
        "colab": {
          "base_uri": "https://localhost:8080/"
        },
        "id": "m647HhIxoZzj",
        "outputId": "37a62ea5-4b09-443d-d917-bfd79ae23e92"
      },
      "source": [
        "a=dividend/divisor\r\n",
        "b=my-(a*mx)\r\n",
        "print(\"기울기=\",a)\r\n",
        "print(\"y절편=\",b)"
      ],
      "execution_count": null,
      "outputs": [
        {
          "output_type": "stream",
          "text": [
            "기울기= 2.3\n",
            "y절편= 79.0\n"
          ],
          "name": "stdout"
        }
      ]
    },
    {
      "cell_type": "code",
      "metadata": {
        "colab": {
          "base_uri": "https://localhost:8080/"
        },
        "id": "OgyiTCV3omET",
        "outputId": "3f607eb8-73a3-444d-dc50-2f3d8af16802"
      },
      "source": [
        "#공부 시간이 10시간일때는?\r\n",
        "y=2.3*10+79\r\n",
        "print(y)"
      ],
      "execution_count": null,
      "outputs": [
        {
          "output_type": "stream",
          "text": [
            "102.0\n"
          ],
          "name": "stdout"
        }
      ]
    },
    {
      "cell_type": "markdown",
      "metadata": {
        "id": "p-OrbhtPsX9z"
      },
      "source": [
        "2. 평균제곱오차"
      ]
    },
    {
      "cell_type": "code",
      "metadata": {
        "id": "1HGaljzKsa19"
      },
      "source": [
        "import numpy as np"
      ],
      "execution_count": null,
      "outputs": []
    },
    {
      "cell_type": "code",
      "metadata": {
        "id": "lqot1mywuozY"
      },
      "source": [
        "fake_a_b=[2.3, 79] #임의로 설정해준 a, b"
      ],
      "execution_count": null,
      "outputs": []
    },
    {
      "cell_type": "code",
      "metadata": {
        "id": "_IfRPUf2uxQO"
      },
      "source": [
        "data=[[2, 81], [4, 93], [6, 91], [8, 97]] #data를 넣어주자\r\n",
        "x=[i[0] for i in data]\r\n",
        "y=[i[1] for i in data]"
      ],
      "execution_count": null,
      "outputs": []
    },
    {
      "cell_type": "code",
      "metadata": {
        "id": "axtXLCajvENQ"
      },
      "source": [
        "def predict_y(x): #예측값 y 계산하는 함수\r\n",
        "  return fake_a_b[0]*x+fake_a_b[1]"
      ],
      "execution_count": null,
      "outputs": []
    },
    {
      "cell_type": "code",
      "metadata": {
        "colab": {
          "base_uri": "https://localhost:8080/"
        },
        "id": "T4MC5EVNvStP",
        "outputId": "7eb465b8-0383-42cd-eeb6-b906d84b3573"
      },
      "source": [
        "predict_result=[] #예측값 넣어줄 배열\r\n",
        "\r\n",
        "for i in range(len(x)):\r\n",
        "  predict_result.append(predict_y(x[i]))\r\n",
        "  print(\"공부한 시간=%.f, 실제 점수=%.f, 예측 점수=%.f\"%(x[i], y[i], predict_y(x[i])))"
      ],
      "execution_count": null,
      "outputs": [
        {
          "output_type": "stream",
          "text": [
            "공부한 시간=2, 실제 점수=81, 예측 점수=84\n",
            "공부한 시간=4, 실제 점수=93, 예측 점수=88\n",
            "공부한 시간=6, 실제 점수=91, 예측 점수=93\n",
            "공부한 시간=8, 실제 점수=97, 예측 점수=97\n"
          ],
          "name": "stdout"
        }
      ]
    },
    {
      "cell_type": "code",
      "metadata": {
        "colab": {
          "base_uri": "https://localhost:8080/"
        },
        "id": "hMSkkVKPwFKz",
        "outputId": "48e82b66-44c5-4a84-c7e7-5ee04d8ed99e"
      },
      "source": [
        "def mse(y, y_hat): #mse함수\r\n",
        "  return ((y-y_hat)**2).mean()\r\n",
        "\r\n",
        "def mse_val(y, predict_result): #최종값 계산해줄 함수\r\n",
        "  return mse(np.array(y), np.array(predict_result))\r\n",
        "\r\n",
        "print(\"평균제곱오차 최종 값: \"+str(mse_val(predict_result, y)))"
      ],
      "execution_count": null,
      "outputs": [
        {
          "output_type": "stream",
          "text": [
            "평균제곱오차 최종 값: 8.299999999999985\n"
          ],
          "name": "stdout"
        }
      ]
    },
    {
      "cell_type": "code",
      "metadata": {
        "id": "8CpWsbCsxD_R"
      },
      "source": [
        ""
      ],
      "execution_count": null,
      "outputs": []
    }
  ]
}