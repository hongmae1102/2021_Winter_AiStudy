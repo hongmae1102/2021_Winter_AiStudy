{
  "nbformat": 4,
  "nbformat_minor": 0,
  "metadata": {
    "colab": {
      "name": "모딥_9회차_실습예시.ipynb",
      "provenance": [],
      "collapsed_sections": []
    },
    "kernelspec": {
      "name": "python3",
      "display_name": "Python 3"
    },
    "accelerator": "GPU"
  },
  "cells": [
    {
      "cell_type": "markdown",
      "metadata": {
        "id": "XOu2H7wQiumP"
      },
      "source": [
        "## 16장 CNN"
      ]
    },
    {
      "cell_type": "markdown",
      "metadata": {
        "id": "v7IViiqnixJV"
      },
      "source": [
        "이미지 데이터 전처리 "
      ]
    },
    {
      "cell_type": "code",
      "metadata": {
        "id": "XmzOTyoCg3eb"
      },
      "source": [
        "import tensorflow as tf\r\n",
        "import numpy as np\r\n",
        "import sys\r\n",
        "import pandas as pd\r\n",
        "import matplotlib.pyplot as plt\r\n",
        "import seaborn as sns"
      ],
      "execution_count": null,
      "outputs": []
    },
    {
      "cell_type": "code",
      "metadata": {
        "id": "G9WGguMrg9U5"
      },
      "source": [
        "\r\n",
        "from keras.utils import np_utils\r\n",
        "from tensorflow.keras.models import Sequential\r\n",
        "from tensorflow.keras.optimizers import Optimizer\r\n",
        "from tensorflow.keras.layers import Dense"
      ],
      "execution_count": null,
      "outputs": []
    },
    {
      "cell_type": "markdown",
      "metadata": {
        "id": "ByxEJK30e2PQ"
      },
      "source": [
        "####MNIST 데이터 불러오기"
      ]
    },
    {
      "cell_type": "code",
      "metadata": {
        "id": "oUWVZkKMdOBT"
      },
      "source": [
        "from tensorflow.keras.datasets import mnist"
      ],
      "execution_count": null,
      "outputs": []
    },
    {
      "cell_type": "markdown",
      "metadata": {
        "id": "Hw7DnIZEjMNz"
      },
      "source": [
        "load mnist"
      ]
    },
    {
      "cell_type": "code",
      "metadata": {
        "colab": {
          "base_uri": "https://localhost:8080/"
        },
        "id": "MfAB7HIcjIRK",
        "outputId": "f74f0b51-e5f2-4610-8e88-e4c95556c03c"
      },
      "source": [
        "(x_train,y_train),(x_test,y_test) = mnist.load_data()"
      ],
      "execution_count": null,
      "outputs": [
        {
          "output_type": "stream",
          "text": [
            "Downloading data from https://storage.googleapis.com/tensorflow/tf-keras-datasets/mnist.npz\n",
            "11493376/11490434 [==============================] - 0s 0us/step\n"
          ],
          "name": "stdout"
        }
      ]
    },
    {
      "cell_type": "code",
      "metadata": {
        "colab": {
          "base_uri": "https://localhost:8080/"
        },
        "id": "pcgV9vsPjgKe",
        "outputId": "c1ad59b6-9185-49dd-bd18-6c42f0a9c49c"
      },
      "source": [
        "x_train.shape,x_test.shape"
      ],
      "execution_count": null,
      "outputs": [
        {
          "output_type": "execute_result",
          "data": {
            "text/plain": [
              "((60000, 28, 28), (10000, 28, 28))"
            ]
          },
          "metadata": {
            "tags": []
          },
          "execution_count": 5
        }
      ]
    },
    {
      "cell_type": "code",
      "metadata": {
        "colab": {
          "base_uri": "https://localhost:8080/",
          "height": 283
        },
        "id": "qon-C_QRjjDE",
        "outputId": "ae90807c-85cb-4a9c-c8e3-5aef28425c47"
      },
      "source": [
        "plt.imshow(x_train[0],cmap='Greys')"
      ],
      "execution_count": null,
      "outputs": [
        {
          "output_type": "execute_result",
          "data": {
            "text/plain": [
              "<matplotlib.image.AxesImage at 0x7fbc9e0ee160>"
            ]
          },
          "metadata": {
            "tags": []
          },
          "execution_count": 6
        },
        {
          "output_type": "display_data",
          "data": {
            "image/png": "[encoded data removed]",
            "text/plain": [
              "<Figure size 432x288 with 1 Axes>"
            ]
          },
          "metadata": {
            "tags": [],
            "needs_background": "light"
          }
        }
      ]
    },
    {
      "cell_type": "markdown",
      "metadata": {
        "id": "VSAmqbYFkr4K"
      },
      "source": [
        "### X 전처리"
      ]
    },
    {
      "cell_type": "code",
      "metadata": {
        "colab": {
          "base_uri": "https://localhost:8080/"
        },
        "id": "AsbIDez1QNTY",
        "outputId": "73e97f14-0a8c-458d-ec75-2073396c92a7"
      },
      "source": [
        "for x in x_train[0]:\r\n",
        "  for i in x:\r\n",
        "    sys.stdout.write(\"%d\\t\" %i)\r\n",
        "  sys.stdout.write('\\n')"
      ],
      "execution_count": null,
      "outputs": [
        {
          "output_type": "stream",
          "text": [
            "0\t0\t0\t0\t0\t0\t0\t0\t0\t0\t0\t0\t0\t0\t0\t0\t0\t0\t0\t0\t0\t0\t0\t0\t0\t0\t0\t0\t\n",
            "0\t0\t0\t0\t0\t0\t0\t0\t0\t0\t0\t0\t0\t0\t0\t0\t0\t0\t0\t0\t0\t0\t0\t0\t0\t0\t0\t0\t\n",
            "0\t0\t0\t0\t0\t0\t0\t0\t0\t0\t0\t0\t0\t0\t0\t0\t0\t0\t0\t0\t0\t0\t0\t0\t0\t0\t0\t0\t\n",
            "0\t0\t0\t0\t0\t0\t0\t0\t0\t0\t0\t0\t0\t0\t0\t0\t0\t0\t0\t0\t0\t0\t0\t0\t0\t0\t0\t0\t\n",
            "0\t0\t0\t0\t0\t0\t0\t0\t0\t0\t0\t0\t0\t0\t0\t0\t0\t0\t0\t0\t0\t0\t0\t0\t0\t0\t0\t0\t\n",
            "0\t0\t0\t0\t0\t0\t0\t0\t0\t0\t0\t0\t3\t18\t18\t18\t126\t136\t175\t26\t166\t255\t247\t127\t0\t0\t0\t0\t\n",
            "0\t0\t0\t0\t0\t0\t0\t0\t30\t36\t94\t154\t170\t253\t253\t253\t253\t253\t225\t172\t253\t242\t195\t64\t0\t0\t0\t0\t\n",
            "0\t0\t0\t0\t0\t0\t0\t49\t238\t253\t253\t253\t253\t253\t253\t253\t253\t251\t93\t82\t82\t56\t39\t0\t0\t0\t0\t0\t\n",
            "0\t0\t0\t0\t0\t0\t0\t18\t219\t253\t253\t253\t253\t253\t198\t182\t247\t241\t0\t0\t0\t0\t0\t0\t0\t0\t0\t0\t\n",
            "0\t0\t0\t0\t0\t0\t0\t0\t80\t156\t107\t253\t253\t205\t11\t0\t43\t154\t0\t0\t0\t0\t0\t0\t0\t0\t0\t0\t\n",
            "0\t0\t0\t0\t0\t0\t0\t0\t0\t14\t1\t154\t253\t90\t0\t0\t0\t0\t0\t0\t0\t0\t0\t0\t0\t0\t0\t0\t\n",
            "0\t0\t0\t0\t0\t0\t0\t0\t0\t0\t0\t139\t253\t190\t2\t0\t0\t0\t0\t0\t0\t0\t0\t0\t0\t0\t0\t0\t\n",
            "0\t0\t0\t0\t0\t0\t0\t0\t0\t0\t0\t11\t190\t253\t70\t0\t0\t0\t0\t0\t0\t0\t0\t0\t0\t0\t0\t0\t\n",
            "0\t0\t0\t0\t0\t0\t0\t0\t0\t0\t0\t0\t35\t241\t225\t160\t108\t1\t0\t0\t0\t0\t0\t0\t0\t0\t0\t0\t\n",
            "0\t0\t0\t0\t0\t0\t0\t0\t0\t0\t0\t0\t0\t81\t240\t253\t253\t119\t25\t0\t0\t0\t0\t0\t0\t0\t0\t0\t\n",
            "0\t0\t0\t0\t0\t0\t0\t0\t0\t0\t0\t0\t0\t0\t45\t186\t253\t253\t150\t27\t0\t0\t0\t0\t0\t0\t0\t0\t\n",
            "0\t0\t0\t0\t0\t0\t0\t0\t0\t0\t0\t0\t0\t0\t0\t16\t93\t252\t253\t187\t0\t0\t0\t0\t0\t0\t0\t0\t\n",
            "0\t0\t0\t0\t0\t0\t0\t0\t0\t0\t0\t0\t0\t0\t0\t0\t0\t249\t253\t249\t64\t0\t0\t0\t0\t0\t0\t0\t\n",
            "0\t0\t0\t0\t0\t0\t0\t0\t0\t0\t0\t0\t0\t0\t46\t130\t183\t253\t253\t207\t2\t0\t0\t0\t0\t0\t0\t0\t\n",
            "0\t0\t0\t0\t0\t0\t0\t0\t0\t0\t0\t0\t39\t148\t229\t253\t253\t253\t250\t182\t0\t0\t0\t0\t0\t0\t0\t0\t\n",
            "0\t0\t0\t0\t0\t0\t0\t0\t0\t0\t24\t114\t221\t253\t253\t253\t253\t201\t78\t0\t0\t0\t0\t0\t0\t0\t0\t0\t\n",
            "0\t0\t0\t0\t0\t0\t0\t0\t23\t66\t213\t253\t253\t253\t253\t198\t81\t2\t0\t0\t0\t0\t0\t0\t0\t0\t0\t0\t\n",
            "0\t0\t0\t0\t0\t0\t18\t171\t219\t253\t253\t253\t253\t195\t80\t9\t0\t0\t0\t0\t0\t0\t0\t0\t0\t0\t0\t0\t\n",
            "0\t0\t0\t0\t55\t172\t226\t253\t253\t253\t253\t244\t133\t11\t0\t0\t0\t0\t0\t0\t0\t0\t0\t0\t0\t0\t0\t0\t\n",
            "0\t0\t0\t0\t136\t253\t253\t253\t212\t135\t132\t16\t0\t0\t0\t0\t0\t0\t0\t0\t0\t0\t0\t0\t0\t0\t0\t0\t\n",
            "0\t0\t0\t0\t0\t0\t0\t0\t0\t0\t0\t0\t0\t0\t0\t0\t0\t0\t0\t0\t0\t0\t0\t0\t0\t0\t0\t0\t\n",
            "0\t0\t0\t0\t0\t0\t0\t0\t0\t0\t0\t0\t0\t0\t0\t0\t0\t0\t0\t0\t0\t0\t0\t0\t0\t0\t0\t0\t\n",
            "0\t0\t0\t0\t0\t0\t0\t0\t0\t0\t0\t0\t0\t0\t0\t0\t0\t0\t0\t0\t0\t0\t0\t0\t0\t0\t0\t0\t\n"
          ],
          "name": "stdout"
        }
      ]
    },
    {
      "cell_type": "markdown",
      "metadata": {
        "id": "DUVU8kbfkNCd"
      },
      "source": [
        "데이터 1개에 28*28 배열 \r\n",
        "안에는 0~255의 값 \r\n",
        "\r\n",
        "1차원 배열로 풀어주고 0 ~ 1 로 값 축소 필요함"
      ]
    },
    {
      "cell_type": "code",
      "metadata": {
        "colab": {
          "base_uri": "https://localhost:8080/"
        },
        "id": "V4YKejH7kH4w",
        "outputId": "08434a32-97c6-41ec-d45d-ffb498a535d6"
      },
      "source": [
        "# 배열 차원 바꾸기\r\n",
        "x_train = x_train.reshape(x_train.shape[0],28*28)\r\n",
        "x_train.shape "
      ],
      "execution_count": null,
      "outputs": [
        {
          "output_type": "execute_result",
          "data": {
            "text/plain": [
              "(60000, 784)"
            ]
          },
          "metadata": {
            "tags": []
          },
          "execution_count": 8
        }
      ]
    },
    {
      "cell_type": "code",
      "metadata": {
        "colab": {
          "base_uri": "https://localhost:8080/"
        },
        "id": "1h9VjK-9kd14",
        "outputId": "6c4ed9c7-f03d-4b3d-9fc1-e89308384eb4"
      },
      "source": [
        "x_test = x_test.reshape(x_test.shape[0],28*28)\r\n",
        "x_test.shape"
      ],
      "execution_count": null,
      "outputs": [
        {
          "output_type": "execute_result",
          "data": {
            "text/plain": [
              "(10000, 784)"
            ]
          },
          "metadata": {
            "tags": []
          },
          "execution_count": 9
        }
      ]
    },
    {
      "cell_type": "code",
      "metadata": {
        "id": "O-_lMY9oko4N"
      },
      "source": [
        "# 0 ~ 1 로 만들기\r\n",
        "x_train = x_train.astype(float)/255\r\n",
        "x_test = x_test.astype(float)/255"
      ],
      "execution_count": null,
      "outputs": []
    },
    {
      "cell_type": "markdown",
      "metadata": {
        "id": "DLUyrRb6lBCc"
      },
      "source": [
        "### y 전처리"
      ]
    },
    {
      "cell_type": "code",
      "metadata": {
        "colab": {
          "base_uri": "https://localhost:8080/"
        },
        "id": "bMqR_KuWk8VF",
        "outputId": "e8915498-1819-45f9-9275-f3187225af1b"
      },
      "source": [
        "y_train[0]"
      ],
      "execution_count": null,
      "outputs": [
        {
          "output_type": "execute_result",
          "data": {
            "text/plain": [
              "5"
            ]
          },
          "metadata": {
            "tags": []
          },
          "execution_count": 11
        }
      ]
    },
    {
      "cell_type": "code",
      "metadata": {
        "colab": {
          "base_uri": "https://localhost:8080/"
        },
        "id": "IHsIJ2J6lILd",
        "outputId": "3b1d76bd-f91f-4c54-e667-cfdf89a25e30"
      },
      "source": [
        "# one hot encoding\r\n",
        "from tensorflow.keras.utils import to_categorical\r\n",
        "\r\n",
        "y_train = to_categorical(y_train,10)\r\n",
        "y_test = to_categorical(y_test,10)\r\n",
        "y_train[0]"
      ],
      "execution_count": null,
      "outputs": [
        {
          "output_type": "execute_result",
          "data": {
            "text/plain": [
              "array([0., 0., 0., 0., 0., 1., 0., 0., 0., 0.], dtype=float32)"
            ]
          },
          "metadata": {
            "tags": []
          },
          "execution_count": 12
        }
      ]
    },
    {
      "cell_type": "markdown",
      "metadata": {
        "id": "P1OJQoMol7aS"
      },
      "source": [
        "## 배운 모델 돌려보기"
      ]
    },
    {
      "cell_type": "code",
      "metadata": {
        "id": "6exZl2N3lnYR"
      },
      "source": [
        "model = Sequential()\r\n",
        "model.add(Dense(512,input_dim =28*28,activation='relu'))\r\n",
        "model.add(Dense(10,activation='softmax')) # 다중 분류\r\n"
      ],
      "execution_count": null,
      "outputs": []
    },
    {
      "cell_type": "code",
      "metadata": {
        "id": "HyZqhvSKl_C3"
      },
      "source": [
        "model.compile(loss='categorical_crossentropy',optimizer='adam',metrics=['accuracy'])\r\n"
      ],
      "execution_count": null,
      "outputs": []
    },
    {
      "cell_type": "code",
      "metadata": {
        "id": "5h5kqxlpm6js"
      },
      "source": [
        "from tensorflow.keras.callbacks import ModelCheckpoint, EarlyStopping\r\n",
        "import os"
      ],
      "execution_count": null,
      "outputs": []
    },
    {
      "cell_type": "code",
      "metadata": {
        "id": "-RCMBFiZUSsk"
      },
      "source": [
        "model_dir=\"./model/\"\r\n",
        "if not os.path.exists(model_dir):\r\n",
        "  os.mkdir(model_dir)\r\n",
        "modelpath=\"./model/{epoch:02d}-{val_loss:.4f}.hdf5\"\r\n",
        "checkpointer = ModelCheckpoint(filepath=modelpath, monitor='val_loss', \r\n",
        "                               verbose=1, save_best_only=True)\r\n",
        "early_stopping_callback = EarlyStopping(monitor='val_loss' ,patience=10)"
      ],
      "execution_count": null,
      "outputs": []
    },
    {
      "cell_type": "code",
      "metadata": {
        "colab": {
          "base_uri": "https://localhost:8080/"
        },
        "id": "DyoVwPMXjBDS",
        "outputId": "c77dec9f-02b2-4fbb-cb84-d3be400e5d9e"
      },
      "source": [
        "history=model.fit(x_train,y_train,validation_data=(x_test,y_test),epochs=30,batch_size=200,\r\n",
        "                  verbose=0,callbacks=[early_stopping_callback,checkpointer] )"
      ],
      "execution_count": null,
      "outputs": [
        {
          "output_type": "stream",
          "text": [
            "\n",
            "Epoch 00001: val_loss improved from inf to 0.14658, saving model to ./model/01-0.1466.hdf5\n",
            "\n",
            "Epoch 00002: val_loss improved from 0.14658 to 0.10113, saving model to ./model/02-0.1011.hdf5\n",
            "\n",
            "Epoch 00003: val_loss improved from 0.10113 to 0.08558, saving model to ./model/03-0.0856.hdf5\n",
            "\n",
            "Epoch 00004: val_loss improved from 0.08558 to 0.07507, saving model to ./model/04-0.0751.hdf5\n",
            "\n",
            "Epoch 00005: val_loss improved from 0.07507 to 0.06838, saving model to ./model/05-0.0684.hdf5\n",
            "\n",
            "Epoch 00006: val_loss improved from 0.06838 to 0.06095, saving model to ./model/06-0.0610.hdf5\n",
            "\n",
            "Epoch 00007: val_loss did not improve from 0.06095\n",
            "\n",
            "Epoch 00008: val_loss did not improve from 0.06095\n",
            "\n",
            "Epoch 00009: val_loss did not improve from 0.06095\n",
            "\n",
            "Epoch 00010: val_loss did not improve from 0.06095\n",
            "\n",
            "Epoch 00011: val_loss improved from 0.06095 to 0.05753, saving model to ./model/11-0.0575.hdf5\n",
            "\n",
            "Epoch 00012: val_loss did not improve from 0.05753\n",
            "\n",
            "Epoch 00013: val_loss did not improve from 0.05753\n",
            "\n",
            "Epoch 00014: val_loss did not improve from 0.05753\n",
            "\n",
            "Epoch 00015: val_loss did not improve from 0.05753\n",
            "\n",
            "Epoch 00016: val_loss did not improve from 0.05753\n",
            "\n",
            "Epoch 00017: val_loss did not improve from 0.05753\n",
            "\n",
            "Epoch 00018: val_loss did not improve from 0.05753\n",
            "\n",
            "Epoch 00019: val_loss did not improve from 0.05753\n",
            "\n",
            "Epoch 00020: val_loss did not improve from 0.05753\n",
            "\n",
            "Epoch 00021: val_loss did not improve from 0.05753\n"
          ],
          "name": "stdout"
        }
      ]
    },
    {
      "cell_type": "code",
      "metadata": {
        "colab": {
          "base_uri": "https://localhost:8080/"
        },
        "id": "aDgSXToUjGMp",
        "outputId": "0a7796a9-9e79-4442-a0ec-f6ced2962d69"
      },
      "source": [
        "model.evaluate(x_test,y_test)[1]"
      ],
      "execution_count": null,
      "outputs": [
        {
          "output_type": "stream",
          "text": [
            "313/313 [==============================] - 1s 2ms/step - loss: 0.0660 - accuracy: 0.9842\n"
          ],
          "name": "stdout"
        },
        {
          "output_type": "execute_result",
          "data": {
            "text/plain": [
              "0.9842000007629395"
            ]
          },
          "metadata": {
            "tags": []
          },
          "execution_count": 18
        }
      ]
    },
    {
      "cell_type": "code",
      "metadata": {
        "colab": {
          "base_uri": "https://localhost:8080/",
          "height": 297
        },
        "id": "zEWhJRTAkPG4",
        "outputId": "391f8175-542a-4997-f777-cbb39bf2e334"
      },
      "source": [
        "y_vloss=history.history['val_loss']#테스트셋 오차\r\n",
        "y_loss=history.history['loss']#학습셋 오차\r\n",
        "x_len=np.arange(len(y_loss))\r\n",
        "plt.plot(x_len,y_vloss,marker='.',c=\"red\",label='Testset_loss')\r\n",
        "plt.plot(x_len,y_loss,marker='.',c=\"blue\",label=\"Trainset_loss\")\r\n",
        "plt.legend(loc='upper right')\r\n",
        "plt.grid()\r\n",
        "plt.xlabel('epoch')\r\n",
        "plt.ylabel('loss')\r\n"
      ],
      "execution_count": null,
      "outputs": [
        {
          "output_type": "execute_result",
          "data": {
            "text/plain": [
              "Text(0, 0.5, 'loss')"
            ]
          },
          "metadata": {
            "tags": []
          },
          "execution_count": 31
        },
        {
          "output_type": "display_data",
          "data": {
            "image/png": "[encoded data removed]",
            "text/plain": [
              "<Figure size 432x288 with 1 Axes>"
            ]
          },
          "metadata": {
            "tags": [],
            "needs_background": "light"
          }
        }
      ]
    },
    {
      "cell_type": "markdown",
      "metadata": {
        "id": "O0OPk0RCodoT"
      },
      "source": [
        "## CNN\r\n",
        "\r\n",
        "더 성능을 높여보자"
      ]
    },
    {
      "cell_type": "markdown",
      "metadata": {
        "id": "GUyUBvLzqc4L"
      },
      "source": [
        "이론은 교안으로\r\n",
        "- cnn 등장시기? 배경? 역사? \r\n",
        "- 컨볼루션 연산\r\n",
        "- 맥스풀링,드롭아웃? \r\n",
        "\r\n",
        "처음이면 많이 어려울 수 있는 개념..\r\n",
        "\r\n",
        "한번에 너무 많은 정보를 접하면 지칠수도 있으니\r\n",
        "\r\n",
        "균형을 적절히..\r\n",
        "\r\n",
        "\r\n",
        "**참고 영상**\r\n",
        "- https://youtu.be/8ZEDKm9-Zys\r\n",
        "- https://youtu.be/Em63mknbtWo\r\n",
        "\r\n",
        "\r\n"
      ]
    },
    {
      "cell_type": "code",
      "metadata": {
        "id": "eVGGGrIwq4pe"
      },
      "source": [
        "# 데이터 새로 불러오기\r\n",
        "(x_train,y_train),(x_test,y_test) = mnist.load_data()"
      ],
      "execution_count": null,
      "outputs": []
    },
    {
      "cell_type": "code",
      "metadata": {
        "id": "9ntP4bOEq82k"
      },
      "source": [
        "# x 전처리 이경우 (:,28,28,1)로 \r\n",
        "x_train = x_train.reshape(x_train.shape[0],28,28,1)\r\n",
        "x_test = x_test.reshape(x_test.shape[0],28,28,1)\r\n"
      ],
      "execution_count": null,
      "outputs": []
    },
    {
      "cell_type": "code",
      "metadata": {
        "id": "zhNa5wFrrfJx"
      },
      "source": [
        "# 0 ~ 1 로 만들기\r\n",
        "x_train = x_train.astype(float)/255\r\n",
        "x_test = x_test.astype(float)/255"
      ],
      "execution_count": null,
      "outputs": []
    },
    {
      "cell_type": "code",
      "metadata": {
        "id": "vWd7KPN2q80D"
      },
      "source": [
        "# y 전처리\r\n",
        "y_train = to_categorical(y_train,10)\r\n",
        "y_test = to_categorical(y_test,10)"
      ],
      "execution_count": null,
      "outputs": []
    },
    {
      "cell_type": "code",
      "metadata": {
        "id": "90-WSlVwoW-K"
      },
      "source": [
        "from tensorflow.keras.layers import Conv2D,Dropout,Flatten,MaxPooling2D\r\n",
        "model = Sequential()\r\n",
        "model.add(Conv2D(64,kernel_size=(6,6),input_shape=(28,28,1),activation='relu'))\r\n",
        "model.add(Conv2D(32,kernel_size=(3,3),activation='relu'))\r\n",
        "model.add(MaxPooling2D(pool_size=2)) # 맥스풀링\r\n",
        "model.add(Dropout(0.2)) # 드롭아웃\r\n",
        "model.add(Flatten()) # (28,28,1) 에서 다시 (28*28) 으로\r\n",
        "model.add(Dense(512,activation='relu'))\r\n",
        "model.add(Dense(256,activation='relu'))\r\n",
        "model.add(Dense(10,activation='softmax')) # 다중 분류\r\n",
        "\r\n"
      ],
      "execution_count": null,
      "outputs": []
    },
    {
      "cell_type": "code",
      "metadata": {
        "colab": {
          "base_uri": "https://localhost:8080/"
        },
        "id": "M7_QpT2UrjVF",
        "outputId": "cd97f1d1-da02-4c4b-ffd9-80199f9a82b2"
      },
      "source": [
        "early_stop = EarlyStopping(monitor='val_loss',patience=10,verbose=1)\r\n",
        "model.compile(loss='categorical_crossentropy',optimizer='adam',metrics=['accuracy'])\r\n",
        "model.summary() # 모델 쌓은 층 보여줌 "
      ],
      "execution_count": null,
      "outputs": [
        {
          "output_type": "stream",
          "text": [
            "Model: \"sequential_1\"\n",
            "_________________________________________________________________\n",
            "Layer (type)                 Output Shape              Param #   \n",
            "=================================================================\n",
            "conv2d (Conv2D)              (None, 23, 23, 64)        2368      \n",
            "_________________________________________________________________\n",
            "conv2d_1 (Conv2D)            (None, 21, 21, 32)        18464     \n",
            "_________________________________________________________________\n",
            "max_pooling2d (MaxPooling2D) (None, 10, 10, 32)        0         \n",
            "_________________________________________________________________\n",
            "dropout (Dropout)            (None, 10, 10, 32)        0         \n",
            "_________________________________________________________________\n",
            "flatten (Flatten)            (None, 3200)              0         \n",
            "_________________________________________________________________\n",
            "dense_2 (Dense)              (None, 512)               1638912   \n",
            "_________________________________________________________________\n",
            "dense_3 (Dense)              (None, 256)               131328    \n",
            "_________________________________________________________________\n",
            "dense_4 (Dense)              (None, 10)                2570      \n",
            "=================================================================\n",
            "Total params: 1,793,642\n",
            "Trainable params: 1,793,642\n",
            "Non-trainable params: 0\n",
            "_________________________________________________________________\n"
          ],
          "name": "stdout"
        }
      ]
    },
    {
      "cell_type": "code",
      "metadata": {
        "colab": {
          "base_uri": "https://localhost:8080/"
        },
        "id": "OMamXxR6sixQ",
        "outputId": "103c5252-9dca-40c5-b2c2-4e8abd7425ee"
      },
      "source": [
        "model.fit(x_train,y_train,batch_size=512,epochs=5000,verbose=1,callbacks=[early_stop],\r\n",
        "\r\n",
        "          validation_data =(x_test,y_test))"
      ],
      "execution_count": null,
      "outputs": [
        {
          "output_type": "stream",
          "text": [
            "Epoch 1/5000\n",
            "118/118 [==============================] - 8s 24ms/step - loss: 0.6494 - accuracy: 0.7908 - val_loss: 0.0657 - val_accuracy: 0.9792\n",
            "Epoch 2/5000\n",
            "118/118 [==============================] - 3s 22ms/step - loss: 0.0672 - accuracy: 0.9798 - val_loss: 0.0427 - val_accuracy: 0.9869\n",
            "Epoch 3/5000\n",
            "118/118 [==============================] - 3s 22ms/step - loss: 0.0437 - accuracy: 0.9862 - val_loss: 0.0288 - val_accuracy: 0.9907\n",
            "Epoch 4/5000\n",
            "118/118 [==============================] - 3s 22ms/step - loss: 0.0275 - accuracy: 0.9912 - val_loss: 0.0304 - val_accuracy: 0.9903\n",
            "Epoch 5/5000\n",
            "118/118 [==============================] - 3s 22ms/step - loss: 0.0224 - accuracy: 0.9929 - val_loss: 0.0265 - val_accuracy: 0.9906\n",
            "Epoch 6/5000\n",
            "118/118 [==============================] - 3s 22ms/step - loss: 0.0166 - accuracy: 0.9945 - val_loss: 0.0253 - val_accuracy: 0.9915\n",
            "Epoch 7/5000\n",
            "118/118 [==============================] - 3s 22ms/step - loss: 0.0124 - accuracy: 0.9962 - val_loss: 0.0291 - val_accuracy: 0.9909\n",
            "Epoch 8/5000\n",
            "118/118 [==============================] - 3s 22ms/step - loss: 0.0131 - accuracy: 0.9960 - val_loss: 0.0312 - val_accuracy: 0.9910\n",
            "Epoch 9/5000\n",
            "118/118 [==============================] - 3s 22ms/step - loss: 0.0105 - accuracy: 0.9968 - val_loss: 0.0333 - val_accuracy: 0.9898\n",
            "Epoch 10/5000\n",
            "118/118 [==============================] - 3s 22ms/step - loss: 0.0132 - accuracy: 0.9958 - val_loss: 0.0384 - val_accuracy: 0.9885\n",
            "Epoch 11/5000\n",
            "118/118 [==============================] - 3s 22ms/step - loss: 0.0126 - accuracy: 0.9961 - val_loss: 0.0296 - val_accuracy: 0.9914\n",
            "Epoch 12/5000\n",
            "118/118 [==============================] - 3s 22ms/step - loss: 0.0098 - accuracy: 0.9964 - val_loss: 0.0294 - val_accuracy: 0.9915\n",
            "Epoch 13/5000\n",
            "118/118 [==============================] - 3s 22ms/step - loss: 0.0043 - accuracy: 0.9986 - val_loss: 0.0337 - val_accuracy: 0.9910\n",
            "Epoch 14/5000\n",
            "118/118 [==============================] - 3s 22ms/step - loss: 0.0059 - accuracy: 0.9982 - val_loss: 0.0344 - val_accuracy: 0.9913\n",
            "Epoch 15/5000\n",
            "118/118 [==============================] - 3s 22ms/step - loss: 0.0062 - accuracy: 0.9982 - val_loss: 0.0307 - val_accuracy: 0.9901\n",
            "Epoch 16/5000\n",
            "118/118 [==============================] - 3s 22ms/step - loss: 0.0082 - accuracy: 0.9974 - val_loss: 0.0314 - val_accuracy: 0.9912\n",
            "Epoch 00016: early stopping\n"
          ],
          "name": "stdout"
        },
        {
          "output_type": "execute_result",
          "data": {
            "text/plain": [
              "<tensorflow.python.keras.callbacks.History at 0x7fbc344d94e0>"
            ]
          },
          "metadata": {
            "tags": []
          },
          "execution_count": 26
        }
      ]
    },
    {
      "cell_type": "code",
      "metadata": {
        "colab": {
          "base_uri": "https://localhost:8080/"
        },
        "id": "LAB__KhDtnIE",
        "outputId": "90d911f6-dfaa-451f-b9ef-7a09f5115200"
      },
      "source": [
        "model.evaluate(x_test,y_test)[1]"
      ],
      "execution_count": null,
      "outputs": [
        {
          "output_type": "stream",
          "text": [
            "313/313 [==============================] - 1s 2ms/step - loss: 0.0314 - accuracy: 0.9912\n"
          ],
          "name": "stdout"
        },
        {
          "output_type": "execute_result",
          "data": {
            "text/plain": [
              "0.9911999702453613"
            ]
          },
          "metadata": {
            "tags": []
          },
          "execution_count": 27
        }
      ]
    },
    {
      "cell_type": "markdown",
      "metadata": {
        "id": "W0RzwkQQtqTd"
      },
      "source": [
        "0.98->0.99"
      ]
    },
    {
      "cell_type": "markdown",
      "metadata": {
        "id": "iIFOi1YNyCpM"
      },
      "source": [
        "CNN 의 등장으로 뭐가 달라졌는지?\r\n",
        "\r\n",
        "CNN 주로 어느분야에서 잘 먹히는지\r\n",
        "간략한 소개...\r\n",
        "http://www.aitimes.kr/news/articleView.html?idxno=13025\r\n",
        "등등"
      ]
    },
    {
      "cell_type": "code",
      "metadata": {
        "id": "KcieItIbtobt"
      },
      "source": [
        ""
      ],
      "execution_count": null,
      "outputs": []
    }
  ]
}