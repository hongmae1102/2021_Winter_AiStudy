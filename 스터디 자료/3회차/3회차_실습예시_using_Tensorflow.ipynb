{
 "cells": [
  {
   "cell_type": "code",
   "execution_count": 20,
   "metadata": {},
   "outputs": [],
   "source": [
    "import numpy as np\n",
    "import pandas as pd\n",
    "import matplotlib.pyplot as plt\n",
    "import tensorflow as tf\n",
    "import random\n",
    "\n",
    "data = [[2, 0], [4, 0], [6, 0], [8, 1], [10, 1], [12, 1], [14, 1]]\n",
    "\n",
    "x1 = [i[0] for i in data]\n",
    "y = [i[1] for i in data]\n",
    "\n",
    "x_g=[i[0] for i in data]\n",
    "y_g=[i[1] for i in data]"
   ]
  },
  {
   "cell_type": "code",
   "execution_count": 21,
   "metadata": {},
   "outputs": [
    {
     "data": {
      "image/png": "[encoded data removed]",
      "text/plain": [
       "<Figure size 432x288 with 1 Axes>"
      ]
     },
     "metadata": {
      "needs_background": "light"
     },
     "output_type": "display_data"
    }
   ],
   "source": [
    "#그래프로 나타내 봅니다.\n",
    "plt.scatter(x1, y)\n",
    "plt.xlim(0, 15)\n",
    "plt.ylim(-.1, 1.1)\n",
    "plt.grid(True)"
   ]
  },
  {
   "cell_type": "code",
   "execution_count": 22,
   "metadata": {},
   "outputs": [],
   "source": [
    "x1_data = np.array(x1)\n",
    "y_data = np.array(y)\n",
    "\n",
    "#a = tf.Variable(random.random())\n",
    "#b = tf.Variable(random.random())\n",
    "\n",
    "a = tf.Variable(0, dtype=tf.float32)\n",
    "b = tf.Variable(0, dtype=tf.float32)"
   ]
  },
  {
   "cell_type": "code",
   "execution_count": 23,
   "metadata": {},
   "outputs": [],
   "source": [
    "def compute_loss():\n",
    "    hypothesis = tf.math.sigmoid(a*x1_data+b)\n",
    "    loss = -tf.math.reduce_mean(y_data * tf.math.log(hypothesis) \n",
    "                                + (1 - y_data) * tf.math.log(1-hypothesis))\n",
    "    return loss"
   ]
  },
  {
   "cell_type": "code",
   "execution_count": 24,
   "metadata": {},
   "outputs": [
    {
     "name": "stdout",
     "output_type": "stream",
     "text": [
      "0 a: 0.11428572 b: 0.003571429 loss: 0.5546378\n",
      "1000 a: 0.6151289 b: -3.9133995 loss: 0.18809369\n",
      "2000 a: 0.831343 b: -5.517361 loss: 0.13457471\n",
      "3000 a: 0.98071724 b: -6.602698 loss: 0.11040015\n",
      "4000 a: 1.098763 b: -7.4521236 loss: 0.09564186\n",
      "5000 a: 1.1981719 b: -8.163362 loss: 0.08530726\n",
      "6000 a: 1.2850072 b: -8.782278 loss: 0.0774856\n",
      "7000 a: 1.3626691 b: -9.334306 loss: 0.07126484\n",
      "8000 a: 1.4332715 b: -9.835133 loss: 0.06614529\n",
      "9000 a: 1.4982277 b: -10.295177 loss: 0.061825905\n",
      "10000 a: 1.5585366 b: -10.721763 loss: 0.05811214\n",
      "11000 a: 1.6149313 b: -11.120252 loss: 0.05487161\n",
      "12000 a: 1.6679708 b: -11.494706 loss: 0.052010145\n",
      "13000 a: 1.7180912 b: -11.848301 loss: 0.04945873\n",
      "14000 a: 1.7656425 b: -12.183562 loss: 0.047164984\n",
      "15000 a: 1.8109086 b: -12.50254 loss: 0.045088716\n"
     ]
    }
   ],
   "source": [
    "optimizer = tf.optimizers.SGD(lr=0.05)\n",
    "epoch = 15001\n",
    "\n",
    "for i in range(epoch):\n",
    "    optimizer.minimize(compute_loss, var_list=[a,b])\n",
    "    if i%1000 == 0:\n",
    "        print(i,'a:', a.numpy(), 'b:', b.numpy(), 'loss:', compute_loss().numpy())"
   ]
  },
  {
   "cell_type": "code",
   "execution_count": 25,
   "metadata": {},
   "outputs": [
    {
     "name": "stdout",
     "output_type": "stream",
     "text": [
      "기울기=1.8109, 절편=-12.5025\n"
     ]
    },
    {
     "data": {
      "image/png": "[encoded data removed]",
      "text/plain": [
       "<Figure size 432x288 with 1 Axes>"
      ]
     },
     "metadata": {
      "needs_background": "light"
     },
     "output_type": "display_data"
    }
   ],
   "source": [
    "# 앞서 구한 기울기와 절편을 이용해 그래프를 그려 봅니다.\n",
    "plt.scatter(x_g, y_g)\n",
    "plt.xlim(0, 15)\n",
    "plt.ylim(-.1, 1.1)\n",
    "x_range = (np.arange(0, 15, 0.1)) #그래프로 나타낼 x값의 범위를 정합니다.\n",
    "plt.plot(np.arange(0, 15, 0.1), np.array([tf.math.sigmoid(a*x + b) for x in x_range]),'-r')\n",
    "plt.grid(True)\n",
    "plt.show\n",
    "print(\"기울기=%.04f, 절편=%.04f\" % (a.numpy(), b.numpy()))"
   ]
  }
 ],
 "metadata": {
  "kernelspec": {
   "display_name": "tf2.0",
   "language": "python",
   "name": "tf2.0"
  },
  "language_info": {
   "codemirror_mode": {
    "name": "ipython",
    "version": 3
   },
   "file_extension": ".py",
   "mimetype": "text/x-python",
   "name": "python",
   "nbconvert_exporter": "python",
   "pygments_lexer": "ipython3",
   "version": "3.6.4"
  }
 },
 "nbformat": 4,
 "nbformat_minor": 4
}
