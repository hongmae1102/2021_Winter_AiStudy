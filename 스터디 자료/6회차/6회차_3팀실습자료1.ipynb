{
  "nbformat": 4,
  "nbformat_minor": 0,
  "metadata": {
    "colab": {
      "name": "Untitled5.ipynb",
      "provenance": []
    },
    "kernelspec": {
      "name": "python3",
      "display_name": "Python 3"
    }
  },
  "cells": [
    {
      "cell_type": "markdown",
      "metadata": {
        "id": "82wHU6LR1fXn"
      },
      "source": [
        "# 13장 광물 초음파 데이터 확인과 실습"
      ]
    },
    {
      "cell_type": "markdown",
      "metadata": {
        "id": "y0Jmfrx51y1Z"
      },
      "source": [
        "Numpy : 행렬이나 일반적으로 대규모 다차원 배열을 쉽게 처리할 수 있도록 지원하는 라이브러리\r\n",
        "\r\n",
        "Pandas : 데이터분석 라이브러리\r\n",
        "\r\n",
        "Tensorflow : 머신러닝을 위한 엔드 투 엔드 오픈소스 플랫폼\r\n",
        "\r\n",
        "Matplotlib : 그래프를 그리기 위한 라이브러리\r\n",
        "\r\n",
        "Seaborn : matplotlib의 상위 호환 데이터 시각화를 위한 라이브러리"
      ]
    },
    {
      "cell_type": "code",
      "metadata": {
        "id": "7-pvzXv81nNH"
      },
      "source": [
        "import numpy as np \r\n",
        "import pandas as pd\r\n",
        "import tensorflow as tf\r\n",
        "import matplotlib.pyplot as plt\r\n",
        "import seaborn as sns"
      ],
      "execution_count": null,
      "outputs": []
    },
    {
      "cell_type": "markdown",
      "metadata": {
        "id": "XHLl33uR2BB2"
      },
      "source": [
        "사이킷런(Sklearn) : 머신러닝 분석에 유용한 라이브러리\r\n"
      ]
    },
    {
      "cell_type": "code",
      "metadata": {
        "id": "U9VbOCyD1rP1"
      },
      "source": [
        "from tensorflow.keras.models import Sequential\r\n",
        "from tensorflow.keras.layers import Dense\r\n",
        "from sklearn.preprocessing import LabelEncoder"
      ],
      "execution_count": null,
      "outputs": []
    },
    {
      "cell_type": "markdown",
      "metadata": {
        "id": "f6JA0RtL8Q5w"
      },
      "source": [
        "데이터 입력과 확인"
      ]
    },
    {
      "cell_type": "code",
      "metadata": {
        "colab": {
          "base_uri": "https://localhost:8080/"
        },
        "id": "7ufURCNn8MjA",
        "outputId": "b86a67b2-1f86-4082-ac24-f422c3ea4a0d"
      },
      "source": [
        "data = pd.read_csv('sonar.csv', header=None)\r\n",
        "data.info()"
      ],
      "execution_count": null,
      "outputs": [
        {
          "output_type": "stream",
          "text": [
            "<class 'pandas.core.frame.DataFrame'>\n",
            "RangeIndex: 208 entries, 0 to 207\n",
            "Data columns (total 61 columns):\n",
            " #   Column  Non-Null Count  Dtype  \n",
            "---  ------  --------------  -----  \n",
            " 0   0       208 non-null    float64\n",
            " 1   1       208 non-null    float64\n",
            " 2   2       208 non-null    float64\n",
            " 3   3       208 non-null    float64\n",
            " 4   4       208 non-null    float64\n",
            " 5   5       208 non-null    float64\n",
            " 6   6       208 non-null    float64\n",
            " 7   7       208 non-null    float64\n",
            " 8   8       208 non-null    float64\n",
            " 9   9       208 non-null    float64\n",
            " 10  10      208 non-null    float64\n",
            " 11  11      208 non-null    float64\n",
            " 12  12      208 non-null    float64\n",
            " 13  13      208 non-null    float64\n",
            " 14  14      208 non-null    float64\n",
            " 15  15      208 non-null    float64\n",
            " 16  16      208 non-null    float64\n",
            " 17  17      208 non-null    float64\n",
            " 18  18      208 non-null    float64\n",
            " 19  19      208 non-null    float64\n",
            " 20  20      208 non-null    float64\n",
            " 21  21      208 non-null    float64\n",
            " 22  22      208 non-null    float64\n",
            " 23  23      208 non-null    float64\n",
            " 24  24      208 non-null    float64\n",
            " 25  25      208 non-null    float64\n",
            " 26  26      208 non-null    float64\n",
            " 27  27      208 non-null    float64\n",
            " 28  28      208 non-null    float64\n",
            " 29  29      208 non-null    float64\n",
            " 30  30      208 non-null    float64\n",
            " 31  31      208 non-null    float64\n",
            " 32  32      208 non-null    float64\n",
            " 33  33      208 non-null    float64\n",
            " 34  34      208 non-null    float64\n",
            " 35  35      208 non-null    float64\n",
            " 36  36      208 non-null    float64\n",
            " 37  37      208 non-null    float64\n",
            " 38  38      208 non-null    float64\n",
            " 39  39      208 non-null    float64\n",
            " 40  40      208 non-null    float64\n",
            " 41  41      208 non-null    float64\n",
            " 42  42      208 non-null    float64\n",
            " 43  43      208 non-null    float64\n",
            " 44  44      208 non-null    float64\n",
            " 45  45      208 non-null    float64\n",
            " 46  46      208 non-null    float64\n",
            " 47  47      208 non-null    float64\n",
            " 48  48      208 non-null    float64\n",
            " 49  49      208 non-null    float64\n",
            " 50  50      208 non-null    float64\n",
            " 51  51      208 non-null    float64\n",
            " 52  52      208 non-null    float64\n",
            " 53  53      208 non-null    float64\n",
            " 54  54      208 non-null    float64\n",
            " 55  55      208 non-null    float64\n",
            " 56  56      208 non-null    float64\n",
            " 57  57      208 non-null    float64\n",
            " 58  58      208 non-null    float64\n",
            " 59  59      208 non-null    float64\n",
            " 60  60      208 non-null    object \n",
            "dtypes: float64(60), object(1)\n",
            "memory usage: 99.2+ KB\n"
          ],
          "name": "stdout"
        }
      ]
    },
    {
      "cell_type": "code",
      "metadata": {
        "colab": {
          "base_uri": "https://localhost:8080/"
        },
        "id": "9NxsObJsAljB",
        "outputId": "0353feb7-b616-41e8-e941-42d3fa8a3d79"
      },
      "source": [
        "print(data.head())"
      ],
      "execution_count": null,
      "outputs": [
        {
          "output_type": "stream",
          "text": [
            "       0       1       2       3       4   ...      56      57      58      59  60\n",
            "0  0.0200  0.0371  0.0428  0.0207  0.0954  ...  0.0180  0.0084  0.0090  0.0032   R\n",
            "1  0.0453  0.0523  0.0843  0.0689  0.1183  ...  0.0140  0.0049  0.0052  0.0044   R\n",
            "2  0.0262  0.0582  0.1099  0.1083  0.0974  ...  0.0316  0.0164  0.0095  0.0078   R\n",
            "3  0.0100  0.0171  0.0623  0.0205  0.0205  ...  0.0050  0.0044  0.0040  0.0117   R\n",
            "4  0.0762  0.0666  0.0481  0.0394  0.0590  ...  0.0072  0.0048  0.0107  0.0094   R\n",
            "\n",
            "[5 rows x 61 columns]\n"
          ],
          "name": "stdout"
        }
      ]
    },
    {
      "cell_type": "markdown",
      "metadata": {
        "id": "3tPfg7l28VUH"
      },
      "source": [
        "실행할 때마다 같은 결과를 출력하기 위한 seed값 설정"
      ]
    },
    {
      "cell_type": "code",
      "metadata": {
        "id": "aS_H6vD18Ssg"
      },
      "source": [
        "np.random.seed(3)\r\n",
        "tf.random.set_seed(3)"
      ],
      "execution_count": null,
      "outputs": []
    },
    {
      "cell_type": "markdown",
      "metadata": {
        "id": "pxYSnm3K82pH"
      },
      "source": [
        "데이터 분리"
      ]
    },
    {
      "cell_type": "code",
      "metadata": {
        "id": "uVRhIF6r8295"
      },
      "source": [
        "x_data = data.iloc[:,:-1]\r\n",
        "y_data = data.iloc[:, -1]"
      ],
      "execution_count": null,
      "outputs": []
    },
    {
      "cell_type": "markdown",
      "metadata": {
        "id": "8k3p_BBf87ul"
      },
      "source": [
        "데이터 출력"
      ]
    },
    {
      "cell_type": "code",
      "metadata": {
        "colab": {
          "base_uri": "https://localhost:8080/"
        },
        "id": "ZrBmglw58_aA",
        "outputId": "665464d3-dc9c-4439-f62e-574648d225c6"
      },
      "source": [
        "y_data"
      ],
      "execution_count": null,
      "outputs": [
        {
          "output_type": "execute_result",
          "data": {
            "text/plain": [
              "0      R\n",
              "1      R\n",
              "2      R\n",
              "3      R\n",
              "4      R\n",
              "      ..\n",
              "203    M\n",
              "204    M\n",
              "205    M\n",
              "206    M\n",
              "207    M\n",
              "Name: 60, Length: 208, dtype: object"
            ]
          },
          "metadata": {
            "tags": []
          },
          "execution_count": 10
        }
      ]
    },
    {
      "cell_type": "markdown",
      "metadata": {
        "id": "9ht8Uv3w9IYq"
      },
      "source": [
        "y 전처리"
      ]
    },
    {
      "cell_type": "code",
      "metadata": {
        "id": "yjIyhKp99KrB"
      },
      "source": [
        "e = LabelEncoder()\r\n",
        "e.fit(y_data)\r\n",
        "y_data = e.transform(y_data)"
      ],
      "execution_count": null,
      "outputs": []
    },
    {
      "cell_type": "markdown",
      "metadata": {
        "id": "nHObxP5n-P7X"
      },
      "source": [
        "LabelEncoder() : 카테고리형 데이터를 수치형 데이터로 변환해주는 작업\r\n",
        "\r\n",
        "fit() : 데이터에 특정 알고리즘 또는 전처리를 적용하는 메소드로 이를 통해 변환기에 알맞은 파라미터를 생성\r\n",
        "\r\n",
        "Transform() : fit을 통해 생성된 파라미터를 통해서 모델을 적용시켜 데이터 세트를 알맞게 변환시키는 메소드\r\n"
      ]
    },
    {
      "cell_type": "markdown",
      "metadata": {
        "id": "gPNghw5H9M6D"
      },
      "source": [
        "확인"
      ]
    },
    {
      "cell_type": "code",
      "metadata": {
        "colab": {
          "base_uri": "https://localhost:8080/"
        },
        "id": "8nvx1ub69NIc",
        "outputId": "29c13bb4-f69d-4e28-a6b0-473f8b4068a5"
      },
      "source": [
        "print(type(y_data))"
      ],
      "execution_count": null,
      "outputs": [
        {
          "output_type": "stream",
          "text": [
            "<class 'numpy.ndarray'>\n"
          ],
          "name": "stdout"
        }
      ]
    },
    {
      "cell_type": "markdown",
      "metadata": {
        "id": "AcbI776x9Sjw"
      },
      "source": [
        "모델 설정"
      ]
    },
    {
      "cell_type": "code",
      "metadata": {
        "id": "Zj8zOE-n9TwX"
      },
      "source": [
        "model = Sequential()\r\n",
        "model.add(Dense(24,input_dim = 60, activation='relu'))\r\n",
        "model.add(Dense(12, activation='relu'))\r\n",
        "model.add(Dense(1, activation='sigmoid'))"
      ],
      "execution_count": null,
      "outputs": []
    },
    {
      "cell_type": "markdown",
      "metadata": {
        "id": "GlcS3YFs9abh"
      },
      "source": [
        "모델 실행"
      ]
    },
    {
      "cell_type": "code",
      "metadata": {
        "colab": {
          "base_uri": "https://localhost:8080/"
        },
        "id": "MGq9x7Ri9Z1o",
        "outputId": "71201cfe-0c22-4ba1-b32e-5b1cc5bf9e7f"
      },
      "source": [
        "model.compile(loss='binary_crossentropy', optimizer='adam', metrics=['accuracy'])\r\n",
        "model.fit(x_data, y_data, epochs = 200, batch_size = 8)"
      ],
      "execution_count": null,
      "outputs": [
        {
          "output_type": "stream",
          "text": [
            "Epoch 1/200\n",
            "26/26 [==============================] - 1s 1ms/step - loss: 0.7328 - accuracy: 0.5044\n",
            "Epoch 2/200\n",
            "26/26 [==============================] - 0s 1ms/step - loss: 0.6694 - accuracy: 0.5005\n",
            "Epoch 3/200\n",
            "26/26 [==============================] - 0s 1ms/step - loss: 0.6326 - accuracy: 0.6252\n",
            "Epoch 4/200\n",
            "26/26 [==============================] - 0s 1ms/step - loss: 0.6117 - accuracy: 0.6383\n",
            "Epoch 5/200\n",
            "26/26 [==============================] - 0s 1ms/step - loss: 0.6112 - accuracy: 0.6401\n",
            "Epoch 6/200\n",
            "26/26 [==============================] - 0s 1ms/step - loss: 0.5891 - accuracy: 0.7032\n",
            "Epoch 7/200\n",
            "26/26 [==============================] - 0s 1ms/step - loss: 0.5518 - accuracy: 0.7415\n",
            "Epoch 8/200\n",
            "26/26 [==============================] - 0s 1ms/step - loss: 0.5260 - accuracy: 0.7380\n",
            "Epoch 9/200\n",
            "26/26 [==============================] - 0s 1ms/step - loss: 0.5479 - accuracy: 0.7536\n",
            "Epoch 10/200\n",
            "26/26 [==============================] - 0s 1ms/step - loss: 0.5276 - accuracy: 0.7155\n",
            "Epoch 11/200\n",
            "26/26 [==============================] - 0s 1ms/step - loss: 0.5246 - accuracy: 0.7315\n",
            "Epoch 12/200\n",
            "26/26 [==============================] - 0s 1ms/step - loss: 0.4781 - accuracy: 0.8024\n",
            "Epoch 13/200\n",
            "26/26 [==============================] - 0s 1ms/step - loss: 0.5047 - accuracy: 0.7819\n",
            "Epoch 14/200\n",
            "26/26 [==============================] - 0s 1ms/step - loss: 0.4447 - accuracy: 0.7869\n",
            "Epoch 15/200\n",
            "26/26 [==============================] - 0s 1ms/step - loss: 0.4258 - accuracy: 0.8059\n",
            "Epoch 16/200\n",
            "26/26 [==============================] - 0s 1ms/step - loss: 0.4504 - accuracy: 0.7973\n",
            "Epoch 17/200\n",
            "26/26 [==============================] - 0s 1ms/step - loss: 0.4646 - accuracy: 0.7297\n",
            "Epoch 18/200\n",
            "26/26 [==============================] - 0s 1ms/step - loss: 0.4297 - accuracy: 0.8082\n",
            "Epoch 19/200\n",
            "26/26 [==============================] - 0s 1ms/step - loss: 0.3693 - accuracy: 0.8601\n",
            "Epoch 20/200\n",
            "26/26 [==============================] - 0s 1ms/step - loss: 0.3741 - accuracy: 0.8572\n",
            "Epoch 21/200\n",
            "26/26 [==============================] - 0s 2ms/step - loss: 0.3907 - accuracy: 0.8229\n",
            "Epoch 22/200\n",
            "26/26 [==============================] - 0s 1ms/step - loss: 0.4267 - accuracy: 0.7912\n",
            "Epoch 23/200\n",
            "26/26 [==============================] - 0s 1ms/step - loss: 0.3525 - accuracy: 0.8508\n",
            "Epoch 24/200\n",
            "26/26 [==============================] - 0s 1ms/step - loss: 0.3954 - accuracy: 0.8273\n",
            "Epoch 25/200\n",
            "26/26 [==============================] - 0s 1ms/step - loss: 0.3645 - accuracy: 0.8223\n",
            "Epoch 26/200\n",
            "26/26 [==============================] - 0s 1ms/step - loss: 0.3407 - accuracy: 0.8873\n",
            "Epoch 27/200\n",
            "26/26 [==============================] - 0s 1ms/step - loss: 0.3266 - accuracy: 0.8791\n",
            "Epoch 28/200\n",
            "26/26 [==============================] - 0s 1ms/step - loss: 0.3650 - accuracy: 0.8492\n",
            "Epoch 29/200\n",
            "26/26 [==============================] - 0s 1ms/step - loss: 0.3682 - accuracy: 0.8102\n",
            "Epoch 30/200\n",
            "26/26 [==============================] - 0s 1ms/step - loss: 0.3357 - accuracy: 0.8370\n",
            "Epoch 31/200\n",
            "26/26 [==============================] - 0s 1ms/step - loss: 0.3168 - accuracy: 0.8843\n",
            "Epoch 32/200\n",
            "26/26 [==============================] - 0s 1ms/step - loss: 0.3048 - accuracy: 0.8903\n",
            "Epoch 33/200\n",
            "26/26 [==============================] - 0s 1ms/step - loss: 0.3242 - accuracy: 0.8636\n",
            "Epoch 34/200\n",
            "26/26 [==============================] - 0s 1ms/step - loss: 0.2959 - accuracy: 0.8617\n",
            "Epoch 35/200\n",
            "26/26 [==============================] - 0s 1ms/step - loss: 0.2661 - accuracy: 0.9256\n",
            "Epoch 36/200\n",
            "26/26 [==============================] - 0s 1ms/step - loss: 0.3267 - accuracy: 0.8842\n",
            "Epoch 37/200\n",
            "26/26 [==============================] - 0s 1ms/step - loss: 0.2977 - accuracy: 0.8605\n",
            "Epoch 38/200\n",
            "26/26 [==============================] - 0s 1ms/step - loss: 0.2978 - accuracy: 0.8761\n",
            "Epoch 39/200\n",
            "26/26 [==============================] - 0s 1ms/step - loss: 0.2594 - accuracy: 0.9182\n",
            "Epoch 40/200\n",
            "26/26 [==============================] - 0s 1ms/step - loss: 0.2893 - accuracy: 0.8899\n",
            "Epoch 41/200\n",
            "26/26 [==============================] - 0s 1ms/step - loss: 0.2953 - accuracy: 0.8775\n",
            "Epoch 42/200\n",
            "26/26 [==============================] - 0s 1ms/step - loss: 0.2431 - accuracy: 0.9238\n",
            "Epoch 43/200\n",
            "26/26 [==============================] - 0s 1ms/step - loss: 0.2764 - accuracy: 0.8766\n",
            "Epoch 44/200\n",
            "26/26 [==============================] - 0s 2ms/step - loss: 0.2983 - accuracy: 0.9155\n",
            "Epoch 45/200\n",
            "26/26 [==============================] - 0s 1ms/step - loss: 0.2417 - accuracy: 0.9152\n",
            "Epoch 46/200\n",
            "26/26 [==============================] - 0s 1ms/step - loss: 0.2595 - accuracy: 0.9144\n",
            "Epoch 47/200\n",
            "26/26 [==============================] - 0s 1ms/step - loss: 0.2468 - accuracy: 0.9332\n",
            "Epoch 48/200\n",
            "26/26 [==============================] - 0s 1ms/step - loss: 0.2334 - accuracy: 0.9289\n",
            "Epoch 49/200\n",
            "26/26 [==============================] - 0s 1ms/step - loss: 0.2680 - accuracy: 0.9185\n",
            "Epoch 50/200\n",
            "26/26 [==============================] - 0s 1ms/step - loss: 0.2568 - accuracy: 0.9250\n",
            "Epoch 51/200\n",
            "26/26 [==============================] - 0s 1ms/step - loss: 0.2625 - accuracy: 0.9168\n",
            "Epoch 52/200\n",
            "26/26 [==============================] - 0s 1ms/step - loss: 0.2236 - accuracy: 0.9433\n",
            "Epoch 53/200\n",
            "26/26 [==============================] - 0s 1ms/step - loss: 0.2056 - accuracy: 0.9459\n",
            "Epoch 54/200\n",
            "26/26 [==============================] - 0s 1ms/step - loss: 0.2127 - accuracy: 0.9254\n",
            "Epoch 55/200\n",
            "26/26 [==============================] - 0s 1ms/step - loss: 0.2087 - accuracy: 0.9372\n",
            "Epoch 56/200\n",
            "26/26 [==============================] - 0s 1ms/step - loss: 0.2266 - accuracy: 0.9366\n",
            "Epoch 57/200\n",
            "26/26 [==============================] - 0s 2ms/step - loss: 0.2067 - accuracy: 0.9542\n",
            "Epoch 58/200\n",
            "26/26 [==============================] - 0s 1ms/step - loss: 0.2316 - accuracy: 0.9073\n",
            "Epoch 59/200\n",
            "26/26 [==============================] - 0s 1ms/step - loss: 0.2480 - accuracy: 0.9428\n",
            "Epoch 60/200\n",
            "26/26 [==============================] - 0s 2ms/step - loss: 0.1950 - accuracy: 0.9678\n",
            "Epoch 61/200\n",
            "26/26 [==============================] - 0s 1ms/step - loss: 0.1702 - accuracy: 0.9589\n",
            "Epoch 62/200\n",
            "26/26 [==============================] - 0s 1ms/step - loss: 0.2723 - accuracy: 0.8527\n",
            "Epoch 63/200\n",
            "26/26 [==============================] - 0s 1ms/step - loss: 0.1740 - accuracy: 0.9691\n",
            "Epoch 64/200\n",
            "26/26 [==============================] - 0s 1ms/step - loss: 0.1999 - accuracy: 0.9502\n",
            "Epoch 65/200\n",
            "26/26 [==============================] - 0s 1ms/step - loss: 0.1707 - accuracy: 0.9527\n",
            "Epoch 66/200\n",
            "26/26 [==============================] - 0s 1ms/step - loss: 0.1866 - accuracy: 0.9673\n",
            "Epoch 67/200\n",
            "26/26 [==============================] - 0s 1ms/step - loss: 0.2280 - accuracy: 0.8902\n",
            "Epoch 68/200\n",
            "26/26 [==============================] - 0s 1ms/step - loss: 0.1978 - accuracy: 0.9472\n",
            "Epoch 69/200\n",
            "26/26 [==============================] - 0s 1ms/step - loss: 0.1516 - accuracy: 0.9810\n",
            "Epoch 70/200\n",
            "26/26 [==============================] - 0s 1ms/step - loss: 0.1628 - accuracy: 0.9574\n",
            "Epoch 71/200\n",
            "26/26 [==============================] - 0s 1ms/step - loss: 0.1664 - accuracy: 0.9419\n",
            "Epoch 72/200\n",
            "26/26 [==============================] - 0s 1ms/step - loss: 0.1488 - accuracy: 0.9662\n",
            "Epoch 73/200\n",
            "26/26 [==============================] - 0s 1ms/step - loss: 0.1567 - accuracy: 0.9618\n",
            "Epoch 74/200\n",
            "26/26 [==============================] - 0s 1ms/step - loss: 0.1605 - accuracy: 0.9651\n",
            "Epoch 75/200\n",
            "26/26 [==============================] - 0s 1ms/step - loss: 0.1276 - accuracy: 0.9776\n",
            "Epoch 76/200\n",
            "26/26 [==============================] - 0s 1ms/step - loss: 0.1517 - accuracy: 0.9716\n",
            "Epoch 77/200\n",
            "26/26 [==============================] - 0s 1ms/step - loss: 0.1352 - accuracy: 0.9713\n",
            "Epoch 78/200\n",
            "26/26 [==============================] - 0s 1ms/step - loss: 0.1328 - accuracy: 0.9579\n",
            "Epoch 79/200\n",
            "26/26 [==============================] - 0s 1ms/step - loss: 0.1461 - accuracy: 0.9531\n",
            "Epoch 80/200\n",
            "26/26 [==============================] - 0s 2ms/step - loss: 0.1373 - accuracy: 0.9421\n",
            "Epoch 81/200\n",
            "26/26 [==============================] - 0s 1ms/step - loss: 0.1668 - accuracy: 0.9486\n",
            "Epoch 82/200\n",
            "26/26 [==============================] - 0s 1ms/step - loss: 0.1692 - accuracy: 0.9198\n",
            "Epoch 83/200\n",
            "26/26 [==============================] - 0s 1ms/step - loss: 0.1128 - accuracy: 0.9826\n",
            "Epoch 84/200\n",
            "26/26 [==============================] - 0s 1ms/step - loss: 0.1510 - accuracy: 0.9631\n",
            "Epoch 85/200\n",
            "26/26 [==============================] - 0s 1ms/step - loss: 0.1310 - accuracy: 0.9529\n",
            "Epoch 86/200\n",
            "26/26 [==============================] - 0s 1ms/step - loss: 0.1390 - accuracy: 0.9566\n",
            "Epoch 87/200\n",
            "26/26 [==============================] - 0s 1ms/step - loss: 0.0965 - accuracy: 0.9721\n",
            "Epoch 88/200\n",
            "26/26 [==============================] - 0s 1ms/step - loss: 0.1196 - accuracy: 0.9735\n",
            "Epoch 89/200\n",
            "26/26 [==============================] - 0s 1ms/step - loss: 0.1241 - accuracy: 0.9701\n",
            "Epoch 90/200\n",
            "26/26 [==============================] - 0s 1ms/step - loss: 0.0911 - accuracy: 0.9879\n",
            "Epoch 91/200\n",
            "26/26 [==============================] - 0s 1ms/step - loss: 0.0868 - accuracy: 0.9834\n",
            "Epoch 92/200\n",
            "26/26 [==============================] - 0s 1ms/step - loss: 0.1105 - accuracy: 0.9741\n",
            "Epoch 93/200\n",
            "26/26 [==============================] - 0s 1ms/step - loss: 0.1102 - accuracy: 0.9831\n",
            "Epoch 94/200\n",
            "26/26 [==============================] - 0s 1ms/step - loss: 0.1052 - accuracy: 0.9834\n",
            "Epoch 95/200\n",
            "26/26 [==============================] - 0s 1ms/step - loss: 0.0829 - accuracy: 0.9854\n",
            "Epoch 96/200\n",
            "26/26 [==============================] - 0s 1ms/step - loss: 0.0970 - accuracy: 0.9840\n",
            "Epoch 97/200\n",
            "26/26 [==============================] - 0s 1ms/step - loss: 0.0814 - accuracy: 0.9886\n",
            "Epoch 98/200\n",
            "26/26 [==============================] - 0s 1ms/step - loss: 0.1088 - accuracy: 0.9567\n",
            "Epoch 99/200\n",
            "26/26 [==============================] - 0s 1ms/step - loss: 0.1049 - accuracy: 0.9726\n",
            "Epoch 100/200\n",
            "26/26 [==============================] - 0s 1ms/step - loss: 0.0709 - accuracy: 0.9878\n",
            "Epoch 101/200\n",
            "26/26 [==============================] - 0s 1ms/step - loss: 0.0825 - accuracy: 0.9915\n",
            "Epoch 102/200\n",
            "26/26 [==============================] - 0s 1ms/step - loss: 0.0719 - accuracy: 0.9970\n",
            "Epoch 103/200\n",
            "26/26 [==============================] - 0s 1ms/step - loss: 0.0907 - accuracy: 0.9896\n",
            "Epoch 104/200\n",
            "26/26 [==============================] - 0s 1ms/step - loss: 0.0623 - accuracy: 0.9973\n",
            "Epoch 105/200\n",
            "26/26 [==============================] - 0s 1ms/step - loss: 0.0696 - accuracy: 0.9878\n",
            "Epoch 106/200\n",
            "26/26 [==============================] - 0s 1ms/step - loss: 0.0940 - accuracy: 0.9771\n",
            "Epoch 107/200\n",
            "26/26 [==============================] - 0s 1ms/step - loss: 0.0744 - accuracy: 0.9850\n",
            "Epoch 108/200\n",
            "26/26 [==============================] - 0s 1ms/step - loss: 0.0698 - accuracy: 0.9958\n",
            "Epoch 109/200\n",
            "26/26 [==============================] - 0s 1ms/step - loss: 0.0737 - accuracy: 0.9904\n",
            "Epoch 110/200\n",
            "26/26 [==============================] - 0s 1ms/step - loss: 0.0613 - accuracy: 0.9978\n",
            "Epoch 111/200\n",
            "26/26 [==============================] - 0s 1ms/step - loss: 0.0579 - accuracy: 0.9991\n",
            "Epoch 112/200\n",
            "26/26 [==============================] - 0s 1ms/step - loss: 0.0581 - accuracy: 0.9820\n",
            "Epoch 113/200\n",
            "26/26 [==============================] - 0s 1ms/step - loss: 0.0616 - accuracy: 0.9922\n",
            "Epoch 114/200\n",
            "26/26 [==============================] - 0s 1ms/step - loss: 0.0574 - accuracy: 0.9972\n",
            "Epoch 115/200\n",
            "26/26 [==============================] - 0s 1ms/step - loss: 0.0539 - accuracy: 0.9871\n",
            "Epoch 116/200\n",
            "26/26 [==============================] - 0s 2ms/step - loss: 0.0501 - accuracy: 0.9982\n",
            "Epoch 117/200\n",
            "26/26 [==============================] - 0s 1ms/step - loss: 0.0548 - accuracy: 0.9996\n",
            "Epoch 118/200\n",
            "26/26 [==============================] - 0s 1ms/step - loss: 0.0551 - accuracy: 0.9867\n",
            "Epoch 119/200\n",
            "26/26 [==============================] - 0s 1ms/step - loss: 0.0463 - accuracy: 0.9979\n",
            "Epoch 120/200\n",
            "26/26 [==============================] - 0s 1ms/step - loss: 0.0501 - accuracy: 0.9973\n",
            "Epoch 121/200\n",
            "26/26 [==============================] - 0s 1ms/step - loss: 0.0549 - accuracy: 0.9809\n",
            "Epoch 122/200\n",
            "26/26 [==============================] - 0s 1ms/step - loss: 0.0543 - accuracy: 0.9866\n",
            "Epoch 123/200\n",
            "26/26 [==============================] - 0s 1ms/step - loss: 0.0380 - accuracy: 0.9963\n",
            "Epoch 124/200\n",
            "26/26 [==============================] - 0s 1ms/step - loss: 0.0530 - accuracy: 0.9932\n",
            "Epoch 125/200\n",
            "26/26 [==============================] - 0s 1ms/step - loss: 0.0372 - accuracy: 0.9979\n",
            "Epoch 126/200\n",
            "26/26 [==============================] - 0s 1ms/step - loss: 0.0550 - accuracy: 0.9993\n",
            "Epoch 127/200\n",
            "26/26 [==============================] - 0s 1ms/step - loss: 0.0354 - accuracy: 0.9960\n",
            "Epoch 128/200\n",
            "26/26 [==============================] - 0s 1ms/step - loss: 0.0344 - accuracy: 1.0000\n",
            "Epoch 129/200\n",
            "26/26 [==============================] - 0s 1ms/step - loss: 0.0451 - accuracy: 1.0000\n",
            "Epoch 130/200\n",
            "26/26 [==============================] - 0s 1ms/step - loss: 0.0368 - accuracy: 0.9995\n",
            "Epoch 131/200\n",
            "26/26 [==============================] - 0s 1ms/step - loss: 0.0353 - accuracy: 0.9996\n",
            "Epoch 132/200\n",
            "26/26 [==============================] - 0s 1ms/step - loss: 0.0415 - accuracy: 0.9889\n",
            "Epoch 133/200\n",
            "26/26 [==============================] - 0s 1ms/step - loss: 0.0314 - accuracy: 1.0000\n",
            "Epoch 134/200\n",
            "26/26 [==============================] - 0s 1ms/step - loss: 0.0352 - accuracy: 0.9970\n",
            "Epoch 135/200\n",
            "26/26 [==============================] - 0s 2ms/step - loss: 0.0477 - accuracy: 1.0000\n",
            "Epoch 136/200\n",
            "26/26 [==============================] - 0s 1ms/step - loss: 0.0346 - accuracy: 1.0000\n",
            "Epoch 137/200\n",
            "26/26 [==============================] - 0s 1ms/step - loss: 0.0350 - accuracy: 1.0000\n",
            "Epoch 138/200\n",
            "26/26 [==============================] - 0s 1ms/step - loss: 0.0291 - accuracy: 1.0000\n",
            "Epoch 139/200\n",
            "26/26 [==============================] - 0s 1ms/step - loss: 0.0353 - accuracy: 1.0000\n",
            "Epoch 140/200\n",
            "26/26 [==============================] - 0s 1ms/step - loss: 0.0437 - accuracy: 0.9951\n",
            "Epoch 141/200\n",
            "26/26 [==============================] - 0s 1ms/step - loss: 0.0331 - accuracy: 0.9986\n",
            "Epoch 142/200\n",
            "26/26 [==============================] - 0s 1ms/step - loss: 0.0262 - accuracy: 1.0000\n",
            "Epoch 143/200\n",
            "26/26 [==============================] - 0s 1ms/step - loss: 0.0328 - accuracy: 1.0000\n",
            "Epoch 144/200\n",
            "26/26 [==============================] - 0s 1ms/step - loss: 0.0252 - accuracy: 1.0000\n",
            "Epoch 145/200\n",
            "26/26 [==============================] - 0s 1ms/step - loss: 0.0348 - accuracy: 0.9845\n",
            "Epoch 146/200\n",
            "26/26 [==============================] - 0s 1ms/step - loss: 0.0367 - accuracy: 1.0000\n",
            "Epoch 147/200\n",
            "26/26 [==============================] - 0s 1ms/step - loss: 0.0270 - accuracy: 1.0000\n",
            "Epoch 148/200\n",
            "26/26 [==============================] - 0s 1ms/step - loss: 0.0295 - accuracy: 1.0000\n",
            "Epoch 149/200\n",
            "26/26 [==============================] - 0s 1ms/step - loss: 0.0182 - accuracy: 1.0000\n",
            "Epoch 150/200\n",
            "26/26 [==============================] - 0s 1ms/step - loss: 0.0185 - accuracy: 1.0000\n",
            "Epoch 151/200\n",
            "26/26 [==============================] - 0s 1ms/step - loss: 0.0221 - accuracy: 1.0000\n",
            "Epoch 152/200\n",
            "26/26 [==============================] - 0s 1ms/step - loss: 0.0245 - accuracy: 1.0000\n",
            "Epoch 153/200\n",
            "26/26 [==============================] - 0s 1ms/step - loss: 0.0255 - accuracy: 0.9970\n",
            "Epoch 154/200\n",
            "26/26 [==============================] - 0s 1ms/step - loss: 0.0259 - accuracy: 1.0000\n",
            "Epoch 155/200\n",
            "26/26 [==============================] - 0s 1ms/step - loss: 0.0191 - accuracy: 1.0000\n",
            "Epoch 156/200\n",
            "26/26 [==============================] - 0s 1ms/step - loss: 0.0183 - accuracy: 1.0000\n",
            "Epoch 157/200\n",
            "26/26 [==============================] - 0s 1ms/step - loss: 0.0164 - accuracy: 1.0000\n",
            "Epoch 158/200\n",
            "26/26 [==============================] - 0s 1ms/step - loss: 0.0201 - accuracy: 1.0000\n",
            "Epoch 159/200\n",
            "26/26 [==============================] - 0s 1ms/step - loss: 0.0174 - accuracy: 1.0000\n",
            "Epoch 160/200\n",
            "26/26 [==============================] - 0s 1ms/step - loss: 0.0142 - accuracy: 1.0000\n",
            "Epoch 161/200\n",
            "26/26 [==============================] - 0s 1ms/step - loss: 0.0213 - accuracy: 1.0000\n",
            "Epoch 162/200\n",
            "26/26 [==============================] - 0s 1ms/step - loss: 0.0150 - accuracy: 1.0000\n",
            "Epoch 163/200\n",
            "26/26 [==============================] - 0s 1ms/step - loss: 0.0199 - accuracy: 1.0000\n",
            "Epoch 164/200\n",
            "26/26 [==============================] - 0s 1ms/step - loss: 0.0169 - accuracy: 1.0000\n",
            "Epoch 165/200\n",
            "26/26 [==============================] - 0s 1ms/step - loss: 0.0144 - accuracy: 1.0000\n",
            "Epoch 166/200\n",
            "26/26 [==============================] - 0s 2ms/step - loss: 0.0144 - accuracy: 1.0000\n",
            "Epoch 167/200\n",
            "26/26 [==============================] - 0s 1ms/step - loss: 0.0120 - accuracy: 1.0000\n",
            "Epoch 168/200\n",
            "26/26 [==============================] - 0s 1ms/step - loss: 0.0162 - accuracy: 1.0000\n",
            "Epoch 169/200\n",
            "26/26 [==============================] - 0s 1ms/step - loss: 0.0149 - accuracy: 1.0000\n",
            "Epoch 170/200\n",
            "26/26 [==============================] - 0s 1ms/step - loss: 0.0101 - accuracy: 1.0000\n",
            "Epoch 171/200\n",
            "26/26 [==============================] - 0s 1ms/step - loss: 0.0169 - accuracy: 1.0000\n",
            "Epoch 172/200\n",
            "26/26 [==============================] - 0s 1ms/step - loss: 0.0134 - accuracy: 1.0000\n",
            "Epoch 173/200\n",
            "26/26 [==============================] - 0s 1ms/step - loss: 0.0118 - accuracy: 1.0000\n",
            "Epoch 174/200\n",
            "26/26 [==============================] - 0s 1ms/step - loss: 0.0134 - accuracy: 1.0000\n",
            "Epoch 175/200\n",
            "26/26 [==============================] - 0s 1ms/step - loss: 0.0137 - accuracy: 1.0000\n",
            "Epoch 176/200\n",
            "26/26 [==============================] - 0s 1ms/step - loss: 0.0101 - accuracy: 1.0000\n",
            "Epoch 177/200\n",
            "26/26 [==============================] - 0s 2ms/step - loss: 0.0133 - accuracy: 1.0000\n",
            "Epoch 178/200\n",
            "26/26 [==============================] - 0s 1ms/step - loss: 0.0133 - accuracy: 1.0000\n",
            "Epoch 179/200\n",
            "26/26 [==============================] - 0s 2ms/step - loss: 0.0123 - accuracy: 1.0000\n",
            "Epoch 180/200\n",
            "26/26 [==============================] - 0s 1ms/step - loss: 0.0156 - accuracy: 1.0000\n",
            "Epoch 181/200\n",
            "26/26 [==============================] - 0s 1ms/step - loss: 0.0112 - accuracy: 1.0000\n",
            "Epoch 182/200\n",
            "26/26 [==============================] - 0s 1ms/step - loss: 0.0082 - accuracy: 1.0000\n",
            "Epoch 183/200\n",
            "26/26 [==============================] - 0s 1ms/step - loss: 0.0090 - accuracy: 1.0000\n",
            "Epoch 184/200\n",
            "26/26 [==============================] - 0s 1ms/step - loss: 0.0096 - accuracy: 1.0000\n",
            "Epoch 185/200\n",
            "26/26 [==============================] - 0s 1ms/step - loss: 0.0089 - accuracy: 1.0000\n",
            "Epoch 186/200\n",
            "26/26 [==============================] - 0s 1ms/step - loss: 0.0107 - accuracy: 1.0000\n",
            "Epoch 187/200\n",
            "26/26 [==============================] - 0s 1ms/step - loss: 0.0109 - accuracy: 1.0000\n",
            "Epoch 188/200\n",
            "26/26 [==============================] - 0s 1ms/step - loss: 0.0091 - accuracy: 1.0000\n",
            "Epoch 189/200\n",
            "26/26 [==============================] - 0s 1ms/step - loss: 0.0083 - accuracy: 1.0000\n",
            "Epoch 190/200\n",
            "26/26 [==============================] - 0s 1ms/step - loss: 0.0075 - accuracy: 1.0000\n",
            "Epoch 191/200\n",
            "26/26 [==============================] - 0s 2ms/step - loss: 0.0083 - accuracy: 1.0000\n",
            "Epoch 192/200\n",
            "26/26 [==============================] - 0s 1ms/step - loss: 0.0090 - accuracy: 1.0000\n",
            "Epoch 193/200\n",
            "26/26 [==============================] - 0s 1ms/step - loss: 0.0063 - accuracy: 1.0000\n",
            "Epoch 194/200\n",
            "26/26 [==============================] - 0s 1ms/step - loss: 0.0069 - accuracy: 1.0000\n",
            "Epoch 195/200\n",
            "26/26 [==============================] - 0s 1ms/step - loss: 0.0069 - accuracy: 1.0000\n",
            "Epoch 196/200\n",
            "26/26 [==============================] - 0s 1ms/step - loss: 0.0071 - accuracy: 1.0000\n",
            "Epoch 197/200\n",
            "26/26 [==============================] - 0s 1ms/step - loss: 0.0079 - accuracy: 1.0000\n",
            "Epoch 198/200\n",
            "26/26 [==============================] - 0s 1ms/step - loss: 0.0059 - accuracy: 1.0000\n",
            "Epoch 199/200\n",
            "26/26 [==============================] - 0s 1ms/step - loss: 0.0062 - accuracy: 1.0000\n",
            "Epoch 200/200\n",
            "26/26 [==============================] - 0s 1ms/step - loss: 0.0071 - accuracy: 1.0000\n"
          ],
          "name": "stdout"
        },
        {
          "output_type": "execute_result",
          "data": {
            "text/plain": [
              "<tensorflow.python.keras.callbacks.History at 0x7f4ca4d4a710>"
            ]
          },
          "metadata": {
            "tags": []
          },
          "execution_count": 16
        }
      ]
    },
    {
      "cell_type": "markdown",
      "metadata": {
        "id": "9lZfTlYT9hka"
      },
      "source": [
        "모델 평가"
      ]
    },
    {
      "cell_type": "code",
      "metadata": {
        "colab": {
          "base_uri": "https://localhost:8080/"
        },
        "id": "FTj6JnKU9h8V",
        "outputId": "1a709d64-090d-438a-8e34-23fa1000fe6d"
      },
      "source": [
        "model.evaluate(x_data, y_data)[1]"
      ],
      "execution_count": null,
      "outputs": [
        {
          "output_type": "stream",
          "text": [
            "7/7 [==============================] - 0s 2ms/step - loss: 0.0061 - accuracy: 1.0000\n"
          ],
          "name": "stdout"
        },
        {
          "output_type": "execute_result",
          "data": {
            "text/plain": [
              "1.0"
            ]
          },
          "metadata": {
            "tags": []
          },
          "execution_count": 17
        }
      ]
    }
  ]
}