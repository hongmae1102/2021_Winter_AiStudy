{
  "nbformat": 4,
  "nbformat_minor": 0,
  "metadata": {
    "colab": {
      "name": "교재코드.ipynb",
      "provenance": []
    },
    "kernelspec": {
      "name": "python3",
      "display_name": "Python 3"
    }
  },
  "cells": [
    {
      "cell_type": "markdown",
      "metadata": {
        "id": "oZ3f2IruydsM"
      },
      "source": [
        "# 새 섹션"
      ]
    },
    {
      "cell_type": "markdown",
      "metadata": {
        "id": "hZkSHxmXm8B_"
      },
      "source": [
        ""
      ]
    },
    {
      "cell_type": "markdown",
      "metadata": {
        "id": "8n5LIar6yeDw"
      },
      "source": [
        "# 새 섹션"
      ]
    },
    {
      "cell_type": "code",
      "metadata": {
        "id": "BAp7tYkeo2u1"
      },
      "source": [
        "from tensorflow.keras.datasets import mnist\r\n",
        "from tensorflow.keras.models import Sequential, Model\r\n",
        "from tensorflow.keras.layers import Input,Dense,Conv2D,MaxPooling2D,UpSampling2D,Flatten,Reshape\r\n",
        "import matplotlib.pyplot as plt\r\n",
        "import numpy as np"
      ],
      "execution_count": null,
      "outputs": []
    },
    {
      "cell_type": "code",
      "metadata": {
        "id": "Hl6DFtCkfhb6"
      },
      "source": [
        "#mnist 데이터 셋 불러오기\r\n",
        "(X_train, _),(X_test, _) = mnist.load_data()\r\n",
        "X_train = X_train.reshape(X_train.shape[0],28,28,1).astype('float32')/255\r\n",
        "X_test = X_test.reshape(X_test.shape[0],28,28,1).astype('float32')/255"
      ],
      "execution_count": null,
      "outputs": []
    },
    {
      "cell_type": "code",
      "metadata": {
        "id": "kRIvlwmsf9gF"
      },
      "source": [
        "#생성자 모델 만들기\r\n",
        "autoencoder=Sequential()"
      ],
      "execution_count": null,
      "outputs": []
    },
    {
      "cell_type": "code",
      "metadata": {
        "id": "o0qG6Mi3gCNX"
      },
      "source": [
        "#인코딩하는 부분\r\n",
        "autoencoder.add(Conv2D(16,kernel_size=3,padding='same',input_shape=(28,28,1),activation='relu'))\r\n",
        "autoencoder.add(MaxPooling2D(pool_size=2,padding='same'))\r\n",
        "autoencoder.add(Conv2D(8,kernel_size=3,activation='relu',padding='same'))\r\n",
        "autoencoder.add(MaxPooling2D(pool_size=2,padding='same'))\r\n",
        "autoencoder.add(Conv2D(8,kernel_size=3,strides=2,padding='same',activation='relu'))"
      ],
      "execution_count": null,
      "outputs": []
    },
    {
      "cell_type": "code",
      "metadata": {
        "id": "juVrwnfngpEE"
      },
      "source": [
        "#디코딩하는 부분\r\n",
        "autoencoder.add(Conv2D(8,kernel_size=3,padding='same',activation='relu'))\r\n",
        "autoencoder.add(UpSampling2D())\r\n",
        "autoencoder.add(Conv2D(8,kernel_size=3,padding='same',activation='relu'))\r\n",
        "autoencoder.add(UpSampling2D())\r\n",
        "autoencoder.add(Conv2D(16,kernel_size=3,activation='relu'))\r\n",
        "autoencoder.add(UpSampling2D())\r\n",
        "autoencoder.add(Conv2D(1,kernel_size=3,padding='same',activation='sigmoid'))"
      ],
      "execution_count": null,
      "outputs": []
    },
    {
      "cell_type": "code",
      "metadata": {
        "colab": {
          "base_uri": "https://localhost:8080/"
        },
        "id": "rEotjcgOiMQU",
        "outputId": "a5d29695-2341-435e-8de1-dbdf5c68f76c"
      },
      "source": [
        "#전체 구조 확인\r\n",
        "autoencoder.summary()"
      ],
      "execution_count": null,
      "outputs": [
        {
          "output_type": "stream",
          "text": [
            "Model: \"sequential_2\"\n",
            "_________________________________________________________________\n",
            "Layer (type)                 Output Shape              Param #   \n",
            "=================================================================\n",
            "conv2d_28 (Conv2D)           (None, 28, 28, 16)        160       \n",
            "_________________________________________________________________\n",
            "max_pooling2d_7 (MaxPooling2 (None, 14, 14, 16)        0         \n",
            "_________________________________________________________________\n",
            "conv2d_29 (Conv2D)           (None, 14, 14, 8)         1160      \n",
            "_________________________________________________________________\n",
            "max_pooling2d_8 (MaxPooling2 (None, 7, 7, 8)           0         \n",
            "_________________________________________________________________\n",
            "conv2d_30 (Conv2D)           (None, 4, 4, 8)           584       \n",
            "_________________________________________________________________\n",
            "conv2d_31 (Conv2D)           (None, 4, 4, 8)           584       \n",
            "_________________________________________________________________\n",
            "up_sampling2d_12 (UpSampling (None, 8, 8, 8)           0         \n",
            "_________________________________________________________________\n",
            "conv2d_32 (Conv2D)           (None, 8, 8, 8)           584       \n",
            "_________________________________________________________________\n",
            "up_sampling2d_13 (UpSampling (None, 16, 16, 8)         0         \n",
            "_________________________________________________________________\n",
            "conv2d_33 (Conv2D)           (None, 14, 14, 16)        1168      \n",
            "_________________________________________________________________\n",
            "up_sampling2d_14 (UpSampling (None, 28, 28, 16)        0         \n",
            "_________________________________________________________________\n",
            "conv2d_34 (Conv2D)           (None, 28, 28, 1)         145       \n",
            "=================================================================\n",
            "Total params: 4,385\n",
            "Trainable params: 4,385\n",
            "Non-trainable params: 0\n",
            "_________________________________________________________________\n"
          ],
          "name": "stdout"
        }
      ]
    },
    {
      "cell_type": "code",
      "metadata": {
        "colab": {
          "base_uri": "https://localhost:8080/"
        },
        "id": "nyHTYjjoifU0",
        "outputId": "c9a3952e-44bc-433d-8a4f-b76423263b12"
      },
      "source": [
        "#모델 컴파일 및 학습\r\n",
        "autoencoder.compile(optimizer='adam',loss='binary_crossentropy')\r\n",
        "autoencoder.fit(X_train, X_train, epochs=10, batch_size=128, validation_data=(X_test, X_test))"
      ],
      "execution_count": null,
      "outputs": [
        {
          "output_type": "stream",
          "text": [
            "Epoch 1/10\n",
            "469/469 [==============================] - 73s 156ms/step - loss: 0.1003 - val_loss: 0.0964\n",
            "Epoch 2/10\n",
            "469/469 [==============================] - 72s 154ms/step - loss: 0.0974 - val_loss: 0.0953\n",
            "Epoch 3/10\n",
            "469/469 [==============================] - 72s 154ms/step - loss: 0.0959 - val_loss: 0.0948\n",
            "Epoch 4/10\n",
            "469/469 [==============================] - 72s 154ms/step - loss: 0.0954 - val_loss: 0.0933\n",
            "Epoch 5/10\n",
            "469/469 [==============================] - 73s 155ms/step - loss: 0.0942 - val_loss: 0.0924\n",
            "Epoch 6/10\n",
            "469/469 [==============================] - 73s 155ms/step - loss: 0.0932 - val_loss: 0.0914\n",
            "Epoch 7/10\n",
            "469/469 [==============================] - 72s 154ms/step - loss: 0.0924 - val_loss: 0.0907\n",
            "Epoch 8/10\n",
            "469/469 [==============================] - 73s 156ms/step - loss: 0.0916 - val_loss: 0.0900\n",
            "Epoch 9/10\n",
            "469/469 [==============================] - 72s 154ms/step - loss: 0.0909 - val_loss: 0.0899\n",
            "Epoch 10/10\n",
            "469/469 [==============================] - 72s 154ms/step - loss: 0.0906 - val_loss: 0.0887\n"
          ],
          "name": "stdout"
        },
        {
          "output_type": "execute_result",
          "data": {
            "text/plain": [
              "<tensorflow.python.keras.callbacks.History at 0x7fdfa1a30208>"
            ]
          },
          "metadata": {
            "tags": []
          },
          "execution_count": 75
        }
      ]
    },
    {
      "cell_type": "code",
      "metadata": {
        "id": "rxbU_r-Lizws"
      },
      "source": [
        "#학습된 결과\r\n",
        "random_test=np.random.randint(X_test.shape[0],size=5)"
      ],
      "execution_count": null,
      "outputs": []
    },
    {
      "cell_type": "code",
      "metadata": {
        "id": "pJ9_tb7QnCDX"
      },
      "source": [
        "#텍스트할 이미지를 랜덤으로 호출\r\n",
        "ae_imgs=autoencoder.predict(X_test)"
      ],
      "execution_count": null,
      "outputs": []
    },
    {
      "cell_type": "code",
      "metadata": {
        "colab": {
          "base_uri": "https://localhost:8080/",
          "height": 52
        },
        "id": "r8Jse_m4nJCk",
        "outputId": "8c0577ad-d568-4cec-c12c-5a5527f86beb"
      },
      "source": [
        "#출력이미지의 크기 정하기\r\n",
        "plt.figure(figsize=(7,2))"
      ],
      "execution_count": null,
      "outputs": [
        {
          "output_type": "execute_result",
          "data": {
            "text/plain": [
              "<Figure size 504x144 with 0 Axes>"
            ]
          },
          "metadata": {
            "tags": []
          },
          "execution_count": 78
        },
        {
          "output_type": "display_data",
          "data": {
            "text/plain": [
              "<Figure size 504x144 with 0 Axes>"
            ]
          },
          "metadata": {
            "tags": []
          }
        }
      ]
    },
    {
      "cell_type": "code",
      "metadata": {
        "colab": {
          "base_uri": "https://localhost:8080/",
          "height": 190
        },
        "id": "RYQDU5vRnRou",
        "outputId": "ea06e667-d1fb-4af9-8aa8-d9146a12cf96"
      },
      "source": [
        "for i,image_idx in enumerate(random_test):\r\n",
        "  ax=plt.subplot(2,7,i+1)\r\n",
        "  plt.imshow(X_test[image_idx].reshape(28,28))\r\n",
        "  ax.axis('off')\r\n",
        "  ax=plt.subplot(2,7,7+i+1)\r\n",
        "  #오토 인코더 결과를 나열해서 보여줌\r\n",
        "  plt.imshow(ae_imgs[image_idx].reshape(28,28))\r\n",
        "  ax.axis('off')\r\n",
        "plt.show()\r\n",
        "\r\n",
        "#----첫번째 사진 : 원본 이미지\r\n",
        "#----두번째 사진 : 오토인코더 결과"
      ],
      "execution_count": null,
      "outputs": [
        {
          "output_type": "display_data",
          "data": {
            "image/png": "[encoded data removed]",
            "text/plain": [
              "<Figure size 432x288 with 10 Axes>"
            ]
          },
          "metadata": {
            "tags": [],
            "needs_background": "light"
          }
        }
      ]
    }
  ]
}