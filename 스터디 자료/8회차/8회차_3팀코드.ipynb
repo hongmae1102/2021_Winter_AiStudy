{
  "nbformat": 4,
  "nbformat_minor": 0,
  "metadata": {
    "colab": {
      "name": "3조_타이타닉_발표자료.ipynb",
      "provenance": [],
      "collapsed_sections": [
        "4yR3jLBqNHbb",
        "K8RwP_qIM3KL",
        "wT7FI843dwF1"
      ]
    },
    "kernelspec": {
      "name": "python3",
      "display_name": "Python 3"
    }
  },
  "cells": [
    {
      "cell_type": "markdown",
      "metadata": {
        "id": "SsKUql6Qe8zQ"
      },
      "source": [
        "# **1. LogisticRegression model**"
      ]
    },
    {
      "cell_type": "markdown",
      "metadata": {
        "id": "k4jc8x9jkafS"
      },
      "source": [
        "### **1-1. 데이터 확인**"
      ]
    },
    {
      "cell_type": "code",
      "metadata": {
        "id": "0SYWYOMMkgTA"
      },
      "source": [
        "import pandas as pd\r\n",
        "import numpy as np\r\n",
        "import tensorflow as tf\r\n",
        "import matplotlib.pyplot as plt\r\n",
        "import seaborn as sns\r\n",
        "\r\n",
        "np.random.seed(3)\r\n",
        "tf.random.set_seed(3)\r\n",
        "\r\n",
        "pd_train = pd.read_csv('train.csv')\r\n",
        "pd_test = pd.read_csv('test.csv')\r\n",
        "pd_submit = pd.read_csv('gender_submission.csv')"
      ],
      "execution_count": null,
      "outputs": []
    },
    {
      "cell_type": "code",
      "metadata": {
        "id": "CCXgc48SkjUO"
      },
      "source": [
        "pd_train"
      ],
      "execution_count": null,
      "outputs": []
    },
    {
      "cell_type": "markdown",
      "metadata": {
        "id": "X2tRewwgknJw"
      },
      "source": [
        "*   PassengerId : 승객 번호\r\n",
        "*   Survived : 생존 여부 (NO=0, YES=1) -> 테스트 데이터로 이 생존 여부 예측하는 것!\r\n",
        "*   Pclass : 티켓 등급 (1=1st, 2=2nd, 3=3rd) ★\r\n",
        "*   Name : 이름 (의미있는 정보 뽑아서 숫자로 바꿔야 함)\r\n",
        "*   Sex : 성별 (숫자로 바꿔야 함)\r\n",
        "*   Age : 나이 (적당한 기준 세워서 간단한 숫자로 바꿔보자)\r\n",
        "*   SibSp : 사촌이나 배우자가 동승 했는지\r\n",
        "*   Parch : 부모나 자식이 동승 했는지\r\n",
        "*   Ticket : 티켓 넘버\r\n",
        "*   Fare : 요금\r\n",
        "*   Cabin\t: 선실 넘버 (NAN : Not a Number 주의)\r\n",
        "*   Embarked : 어떤 선착장에서 탔는지"
      ]
    },
    {
      "cell_type": "code",
      "metadata": {
        "id": "E3z_H2d6kop6"
      },
      "source": [
        "pd_train.info() #12개의 컬럼과, 891개의 승객 정보\r\n",
        "                #Age는 714개의 정보만 존재\r\n",
        "                #Cabin은 204개의 정보만 존재\r\n",
        "                #Nan은 파일이 비어있음"
      ],
      "execution_count": null,
      "outputs": []
    },
    {
      "cell_type": "code",
      "metadata": {
        "id": "KWvAOtFvks54"
      },
      "source": [
        "pd_test.info() #11개의 컬럼과 418개의 승객 정보\r\n",
        "               #빠진 하나의 컬럼은 생존 여부를 나타내는 'Survived'\r\n",
        "               #마찬가지로 Age하고 Cabin은 정보가 좀 빠져 있다!"
      ],
      "execution_count": null,
      "outputs": []
    },
    {
      "cell_type": "code",
      "metadata": {
        "id": "Y_p8LGLgkutv"
      },
      "source": [
        "pd_train.isnull().sum() #Age랑 Cabin은 많이 빠져 있어서 보정 필요하다!\r\n",
        "                        #Embarked도 2개는 빠져 있다."
      ],
      "execution_count": null,
      "outputs": []
    },
    {
      "cell_type": "code",
      "metadata": {
        "id": "6YlV-1bPkww7"
      },
      "source": [
        "pd_test.isnull().sum() #여기도 역시 Age랑 Cabin은 많이 빠져 있다.\r\n",
        "                       #Fare도 1개 빠져 있다."
      ],
      "execution_count": null,
      "outputs": []
    },
    {
      "cell_type": "markdown",
      "metadata": {
        "id": "Fy93m_awk5H1"
      },
      "source": [
        "### **1-2. 데이터 시각화**"
      ]
    },
    {
      "cell_type": "code",
      "metadata": {
        "id": "VJxa1fPFk_VD"
      },
      "source": [
        "sns.countplot(data=pd_train, x=\"Survived\", hue=\"Pclass\", order= [1, 0]) #티켓 등급별(1등석, 2등석, 3등석) 생존 여부(생존=1, 사망=0)\r\n",
        "                                                                        #생존률은 1등석 승객이 높고, 사망률은 3등석 승객이 높음"
      ],
      "execution_count": null,
      "outputs": []
    },
    {
      "cell_type": "code",
      "metadata": {
        "id": "1iUQ2J32lB4B"
      },
      "source": [
        "sns.countplot(data=pd_train, x=\"Survived\", hue=\"Sex\", order= [1, 0]) #성별 별 생존 여부(생존=1, 사망=0)\r\n",
        "                                                                     #생존률은 여성이 높고, 사망률은 남성이 높음"
      ],
      "execution_count": null,
      "outputs": []
    },
    {
      "cell_type": "code",
      "metadata": {
        "id": "nkTv_u_jlDem"
      },
      "source": [
        "grid = sns.FacetGrid(pd_train, hue='Survived', size=4)\r\n",
        "grid.map(plt.hist, 'Age', alpha=.6, rwidth=0.8, bins=[0,10,20,30,40,50,60,70,80,90,100])"
      ],
      "execution_count": null,
      "outputs": []
    },
    {
      "cell_type": "code",
      "metadata": {
        "id": "FQtN5nPIlFjp"
      },
      "source": [
        "sns.countplot(data=pd_train, x=\"Survived\", hue=\"SibSp\", order= [1, 0]) \r\n",
        "#사촌이나 배우자 동승 별 생존 여부(생존=1, 사망=0)"
      ],
      "execution_count": null,
      "outputs": []
    },
    {
      "cell_type": "code",
      "metadata": {
        "id": "dvBo3KItlJw5"
      },
      "source": [
        "sns.countplot(data=pd_train, x=\"Survived\", hue=\"Parch\", order= [1, 0]) \r\n",
        "#부모나 자식 동승 별 생존 여부(생존=1, 사망=0)"
      ],
      "execution_count": null,
      "outputs": []
    },
    {
      "cell_type": "code",
      "metadata": {
        "id": "W2Sa76FZlQNN"
      },
      "source": [
        "sns.countplot(data=pd_train, x=\"Survived\", hue=\"Embarked\", order= [1, 0]) \r\n",
        "#선착장 별 생존 여부(생존=1, 사망=0)"
      ],
      "execution_count": null,
      "outputs": []
    },
    {
      "cell_type": "markdown",
      "metadata": {
        "id": "mV_lCdw3lTG8"
      },
      "source": [
        "### **1-3. 데이터 전처리**"
      ]
    },
    {
      "cell_type": "markdown",
      "metadata": {
        "id": "tuDW2QZolZU6"
      },
      "source": [
        "< To Do List >\r\n",
        "1. 삭제할 데이터 지우기\r\n",
        "2. Name : 이름 (의미있는 정보 뽑아서 숫자로 바꿔야 함)\r\n",
        "3. Sex : 성별 (숫자로 바꿔야 함)\r\n",
        "4. Age : 나이  (빠져있는 값 많았음, 적당한 기준 세워서 간단한 숫자로 바꿔보자)\r\n",
        "5. Embarked : 빠져있는 데이터 어떻게 처리할지?"
      ]
    },
    {
      "cell_type": "code",
      "metadata": {
        "id": "wipPkgYUldEv"
      },
      "source": [
        "train_test_data = [pd_train, pd_test] #전처리 한번에 하기 위해 잠깐 학습셋이랑 테스트셋 합침"
      ],
      "execution_count": null,
      "outputs": []
    },
    {
      "cell_type": "markdown",
      "metadata": {
        "id": "9KJErfnrlgdq"
      },
      "source": [
        "**1. 삭제할 데이터 지우기**\r\n",
        "\r\n",
        "*   PassengerId : 필요 없어\r\n",
        "*   SibSp랑 Parch : 묶어서 가족으로 처리해봤지만 지우는게 더 점수 높았음\r\n",
        "*   Ticket : 필요 없어\r\n",
        "*   Fare : 요금을 아주 적게 낸(15이하?) 사람들 사망률 높길래 따로 처리 해봤지만, 없애는게 더 점수 높았음\r\n",
        "*   Cabin : 알파벳 대문자만 따서 숫자로 바꾸고, NaN값도 Pclass랑 비교해서 전부 넣어주기까지 해봤는데 그냥 없애는게 더 점수 높았음"
      ]
    },
    {
      "cell_type": "code",
      "metadata": {
        "id": "cKS4Y8YhljJ8"
      },
      "source": [
        "pd_train.drop('PassengerId', axis=1, inplace=True)\r\n",
        "#pd_test.drop('PassengerId', axis=1, inplace=True)?\r\n",
        "\r\n",
        "pd_train.drop('SibSp', axis=1, inplace=True)\r\n",
        "pd_test.drop('SibSp', axis=1, inplace=True)\r\n",
        "\r\n",
        "pd_train.drop('Parch', axis=1, inplace=True)\r\n",
        "pd_test.drop('Parch', axis=1, inplace=True)\r\n",
        "\r\n",
        "pd_train.drop('Ticket', axis=1, inplace=True)\r\n",
        "pd_test.drop('Ticket', axis=1, inplace=True)\r\n",
        "\r\n",
        "pd_train.drop('Fare', axis=1, inplace=True)\r\n",
        "pd_test.drop('Fare', axis=1, inplace=True)\r\n",
        "\r\n",
        "pd_train.drop('Cabin', axis=1, inplace=True)\r\n",
        "pd_test.drop('Cabin', axis=1, inplace=True)"
      ],
      "execution_count": null,
      "outputs": []
    },
    {
      "cell_type": "markdown",
      "metadata": {
        "id": "ewckz6nUlk8u"
      },
      "source": [
        "**2. Name : 이름 (의미있는 정보 뽑아서 숫자로 바꿔야 함)**"
      ]
    },
    {
      "cell_type": "code",
      "metadata": {
        "id": "G2ob17yglkDN"
      },
      "source": [
        "for dataset in train_test_data:\r\n",
        "    dataset['Title'] = dataset['Name'].str.extract(' ([A-Za-z]+)\\.', expand=False) #대문자로 시작하여 소문자로 나열되며 .을 만나면 멈추고 Title에 저장"
      ],
      "execution_count": null,
      "outputs": []
    },
    {
      "cell_type": "code",
      "metadata": {
        "id": "dv1KJYL2lqm9"
      },
      "source": [
        "pd_train['Title'].value_counts() #각각의 value 빈도 측정"
      ],
      "execution_count": null,
      "outputs": []
    },
    {
      "cell_type": "code",
      "metadata": {
        "id": "h8-A0sOfls61"
      },
      "source": [
        "#특징이 뚜렷한 Mr,Miss,Mrs만 0,1,2로 놓고 나머지는 3으로!\r\n",
        "title_mapping = {\"Mr\": 0, \"Miss\": 1, \"Mrs\": 2, \r\n",
        "                 \"Master\": 3, \"Dr\": 3, \"Rev\": 3, \"Col\": 3, \"Major\": 3, \"Mlle\": 3,\"Countess\": 3, \"Ms\": 3, \"Lady\": 3, \"Jonkheer\": 3, \"Don\": 3, \"Dona\" : 3, \"Mme\": 3,\"Capt\": 3,\"Sir\": 3 }\r\n",
        "for dataset in train_test_data:\r\n",
        "    dataset['Title'] = dataset['Title'].map(title_mapping)"
      ],
      "execution_count": null,
      "outputs": []
    },
    {
      "cell_type": "code",
      "metadata": {
        "id": "QHJqHyZDlvCx"
      },
      "source": [
        "sns.countplot(data=pd_train, x=\"Survived\", hue=\"Title\", order= [1, 0]) \r\n",
        "#Mr에 비해 Miss 하고 Mrs가 생존률이 높음"
      ],
      "execution_count": null,
      "outputs": []
    },
    {
      "cell_type": "code",
      "metadata": {
        "id": "20_4HmfDlyA3"
      },
      "source": [
        "#이름 속성 삭제\r\n",
        "pd_train.drop('Name', axis=1, inplace=True)\r\n",
        "pd_test.drop('Name', axis=1, inplace=True)"
      ],
      "execution_count": null,
      "outputs": []
    },
    {
      "cell_type": "code",
      "metadata": {
        "id": "qBlclSh0lz0r"
      },
      "source": [
        "pd_train.head()"
      ],
      "execution_count": null,
      "outputs": []
    },
    {
      "cell_type": "markdown",
      "metadata": {
        "id": "-yoBtq4Nl22H"
      },
      "source": [
        "**3. Sex : 성별 (숫자로 바꿔야 함)**"
      ]
    },
    {
      "cell_type": "code",
      "metadata": {
        "id": "UHaH9tJvl4nk"
      },
      "source": [
        "#남자 0으로 여자 1로 #LabelEncoder써도 되는데 train, test 두번 해줘야 함\r\n",
        "sex_mapping = {\"male\": 0, \"female\": 1}\r\n",
        "for dataset in train_test_data:\r\n",
        "    dataset['Sex'] = dataset['Sex'].map(sex_mapping)"
      ],
      "execution_count": null,
      "outputs": []
    },
    {
      "cell_type": "code",
      "metadata": {
        "id": "T-RbL7hLl66s"
      },
      "source": [
        "pd_train.head()"
      ],
      "execution_count": null,
      "outputs": []
    },
    {
      "cell_type": "markdown",
      "metadata": {
        "id": "YEq4WSaGl9IP"
      },
      "source": [
        "**4. Age : 나이 (빠져있는 값 많았음, 적당한 기준 세워서 간단한 숫자로 바꿔보자)**"
      ]
    },
    {
      "cell_type": "code",
      "metadata": {
        "id": "d2b7dseel_CK"
      },
      "source": [
        "#Age에서 빠져있는 값이 있으면, Title정보를 보고 그 정보에 속하는 집단의 중앙값을 나이로 넣자!\r\n",
        "pd_train[\"Age\"].fillna(pd_train.groupby(\"Title\")[\"Age\"].transform(\"median\"), inplace=True) #mean해도 점수차이는 없음\r\n",
        "pd_test[\"Age\"].fillna(pd_test.groupby(\"Title\")[\"Age\"].transform(\"median\"), inplace=True)"
      ],
      "execution_count": null,
      "outputs": []
    },
    {
      "cell_type": "code",
      "metadata": {
        "id": "afUt-3QdmAxs"
      },
      "source": [
        "pd_train.isnull().sum() #Age값 전부 채워진 것 확인"
      ],
      "execution_count": null,
      "outputs": []
    },
    {
      "cell_type": "code",
      "metadata": {
        "id": "lJcy9MEEmDSv"
      },
      "source": [
        "#Age도 적당한 기준으로 나눠보자\r\n",
        "g = sns.FacetGrid(pd_train, col='Survived')\r\n",
        "g.map(plt.hist, 'Age', bins=20);\r\n",
        "plt.xlim(0, 30)\r\n",
        "#plt.xlim(16, 50)\r\n",
        "#plt.xlim(30, 40)\r\n",
        "#plt.xlim(36, 80)"
      ],
      "execution_count": null,
      "outputs": []
    },
    {
      "cell_type": "code",
      "metadata": {
        "id": "KK5OuNunmEma"
      },
      "source": [
        "for dataset in train_test_data:\r\n",
        "    dataset.loc[ dataset['Age'] <= 16, 'Age'] = 0\r\n",
        "    dataset.loc[(dataset['Age'] > 16) & (dataset['Age'] <= 26), 'Age'] = 1\r\n",
        "    dataset.loc[(dataset['Age'] > 26) & (dataset['Age'] <= 30), 'Age'] = 2\r\n",
        "    dataset.loc[(dataset['Age'] > 30) & (dataset['Age'] <= 36), 'Age'] = 3\r\n",
        "    dataset.loc[ dataset['Age'] > 36, 'Age'] = 4"
      ],
      "execution_count": null,
      "outputs": []
    },
    {
      "cell_type": "markdown",
      "metadata": {
        "id": "oaNE8Xb2mGx2"
      },
      "source": [
        "**5. Embarked : 빠져있는 데이터 어떻게 처리할지?**"
      ]
    },
    {
      "cell_type": "code",
      "metadata": {
        "id": "eQKAOZNrmI3K"
      },
      "source": [
        "#Embarked는 train 데이터에서 2개 빠져 있었음\r\n",
        "sns.countplot(data=pd_train, x=\"Pclass\", hue=\"Embarked\")"
      ],
      "execution_count": null,
      "outputs": []
    },
    {
      "cell_type": "code",
      "metadata": {
        "id": "U6jR-Xr3mKL-"
      },
      "source": [
        "for dataset in train_test_data:\r\n",
        "    dataset['Embarked'] = dataset['Embarked'].fillna('S')"
      ],
      "execution_count": null,
      "outputs": []
    },
    {
      "cell_type": "code",
      "metadata": {
        "id": "sAY5H6nUmLqZ"
      },
      "source": [
        "pd_train.isnull().sum() #Embarked값 전부 채워진 것 확인"
      ],
      "execution_count": null,
      "outputs": []
    },
    {
      "cell_type": "code",
      "metadata": {
        "id": "EpqdI1OamNL_"
      },
      "source": [
        "embarked_mapping = {\"S\": 0, \"C\": 1, \"Q\": 2}\r\n",
        "for dataset in train_test_data:\r\n",
        "    dataset['Embarked'] = dataset['Embarked'].map(embarked_mapping)"
      ],
      "execution_count": null,
      "outputs": []
    },
    {
      "cell_type": "code",
      "metadata": {
        "id": "Oti5xq5DmOr_"
      },
      "source": [
        "pd_train.head()"
      ],
      "execution_count": null,
      "outputs": []
    },
    {
      "cell_type": "markdown",
      "metadata": {
        "id": "Wtd6BftymST5"
      },
      "source": [
        "### **1-4. 모델 생성 및 학습과 테스트**"
      ]
    },
    {
      "cell_type": "code",
      "metadata": {
        "id": "VdfhSbtqmbZr"
      },
      "source": [
        "#학습데이터 슬라이싱\r\n",
        "x_train = pd_train.iloc[:,1:]\r\n",
        "y_train = pd_train.iloc[:,:1]\r\n",
        "#테스트데이터 슬라이싱\r\n",
        "x_test = pd_test.iloc[:,1:]"
      ],
      "execution_count": null,
      "outputs": []
    },
    {
      "cell_type": "code",
      "metadata": {
        "id": "prnhAM67mdoJ"
      },
      "source": [
        "#로지스틱회귀 쓰려면 데이터 정규화(스케일링)! 각 feature의 평균을 0, 분산을 1로 변경, 모든 특성들이 같은 스케일을 갖게 됨\r\n",
        "from sklearn.preprocessing import StandardScaler\r\n",
        "scaler = StandardScaler()\r\n",
        "x_train = scaler.fit_transform(x_train)\r\n",
        "x_test = scaler.transform(x_test)"
      ],
      "execution_count": null,
      "outputs": []
    },
    {
      "cell_type": "code",
      "metadata": {
        "id": "K56nR1sgmfW9"
      },
      "source": [
        "from sklearn.linear_model import LogisticRegression\r\n",
        "model = LogisticRegression()\r\n",
        "model.fit(x_train, y_train)"
      ],
      "execution_count": null,
      "outputs": []
    },
    {
      "cell_type": "code",
      "metadata": {
        "id": "zQwyv81hmhTv"
      },
      "source": [
        "y_test = model.predict(x_test).flatten()"
      ],
      "execution_count": null,
      "outputs": []
    },
    {
      "cell_type": "markdown",
      "metadata": {
        "id": "h7SRq9SFmooY"
      },
      "source": [
        "### **1-5. 예측 결과 저장**"
      ]
    },
    {
      "cell_type": "code",
      "metadata": {
        "id": "ioPeFBgWmuAf"
      },
      "source": [
        "for i in range(len(pd_submit)):\r\n",
        "  pd_submit['Survived'][i] = np.round(y_test[i]).astype(int)\r\n",
        "  #pd_submit['Survived']= pd_submit['Survived'].astype(int)\r\n",
        "pd_submit"
      ],
      "execution_count": null,
      "outputs": []
    },
    {
      "cell_type": "code",
      "metadata": {
        "id": "9gO4UQO1myTu"
      },
      "source": [
        "pd_submit.to_csv(\"Titanic_result.csv\", index=False,header=True)"
      ],
      "execution_count": null,
      "outputs": []
    },
    {
      "cell_type": "code",
      "metadata": {
        "id": "Pyqc9uvCBQ6s"
      },
      "source": [
        "pd_submit.to_csv(\"Titanic_result.csv\", index=False,header=True)"
      ],
      "execution_count": 38,
      "outputs": []
    },
    {
      "cell_type": "markdown",
      "metadata": {
        "id": "9dScsh4-jvNK"
      },
      "source": [
        "# **2. Sequential model**"
      ]
    },
    {
      "cell_type": "markdown",
      "metadata": {
        "id": "yy2O5XijRCIP"
      },
      "source": [
        "### **2-1.데이터 개요 파악**"
      ]
    },
    {
      "cell_type": "code",
      "metadata": {
        "id": "EAfnUgo3nrXB"
      },
      "source": [
        "#!pip install kaggle\r\n",
        "#from google.colab import files\r\n",
        "#files.upload()"
      ],
      "execution_count": null,
      "outputs": []
    },
    {
      "cell_type": "code",
      "metadata": {
        "id": "75ohOP67nuk3"
      },
      "source": [
        "#!mkdir -p ~/.kaggle\r\n",
        "#!cp kaggle.json ~/.kaggle/\r\n",
        "#!chmod 600 ~/.kaggle/kaggle.json\r\n",
        "#!ls -lha kaggle.json"
      ],
      "execution_count": null,
      "outputs": []
    },
    {
      "cell_type": "code",
      "metadata": {
        "id": "kVUPoUZGn1U4"
      },
      "source": [
        "#!kaggle competitions download -c titanic"
      ],
      "execution_count": null,
      "outputs": []
    },
    {
      "cell_type": "code",
      "metadata": {
        "id": "3YjnaLLeiwmn"
      },
      "source": [
        "import pandas as pd\r\n",
        "import numpy as np\r\n",
        "import tensorflow as tf\r\n",
        "from tensorflow.keras.models import Sequential, load_model\r\n",
        "from tensorflow.keras.layers import Dense\r\n",
        "from keras.callbacks import ModelCheckpoint, EarlyStopping\r\n",
        "import random\r\n",
        "import os"
      ],
      "execution_count": null,
      "outputs": []
    },
    {
      "cell_type": "code",
      "metadata": {
        "id": "BEyZ5BDkiyde"
      },
      "source": [
        "# seed 설정\r\n",
        "np.random.seed(3)\r\n",
        "tf.random.set_seed(3)\r\n",
        "\r\n",
        "pd_train = pd.read_csv('train.csv')\r\n",
        "pd_test = pd.read_csv('test.csv')\r\n",
        "\r\n",
        "pd_train"
      ],
      "execution_count": null,
      "outputs": []
    },
    {
      "cell_type": "markdown",
      "metadata": {
        "id": "nooyFHXzi3Cb"
      },
      "source": [
        "**문제: 사람들의 생존여부 분류**\r\n",
        "* sibsp: 사촌, 형제자매\r\n",
        "* parch : 부모님, 자녀\r\n",
        "* Cabin: Cabin number\r\n",
        "* Embarked: Port of Embarkation\r\n",
        "* Ticket: 티켓번호"
      ]
    },
    {
      "cell_type": "code",
      "metadata": {
        "id": "2fNIpvh1Q-HR"
      },
      "source": [
        "pd_train.info()"
      ],
      "execution_count": null,
      "outputs": []
    },
    {
      "cell_type": "markdown",
      "metadata": {
        "id": "DLm1hSMnRf8i"
      },
      "source": [
        "- age, cabin, embarked 속성에 결측치 존재  \r\n",
        "- Name ,Sex ,Ticket 등 여러 속성값 자료형 object라 전처리 필요      \r\n",
        "- 중요한 class인 survived 가 1열        "
      ]
    },
    {
      "cell_type": "markdown",
      "metadata": {
        "id": "HvoMHlCATIl9"
      },
      "source": [
        "### **2-2. 히트맵으로 데이터 상관관계 파악**"
      ]
    },
    {
      "cell_type": "code",
      "metadata": {
        "id": "SMN9-dpJTNII"
      },
      "source": [
        "import seaborn as sns\r\n",
        "import matplotlib.pyplot as plt"
      ],
      "execution_count": null,
      "outputs": []
    },
    {
      "cell_type": "code",
      "metadata": {
        "id": "uHiCqNTbTbeR"
      },
      "source": [
        "sns.pairplot(pd_train,hue='Survived')\r\n",
        "plt.show()"
      ],
      "execution_count": null,
      "outputs": []
    },
    {
      "cell_type": "markdown",
      "metadata": {
        "id": "maMcuLGtW5Qx"
      },
      "source": [
        "페어플롯에서는 pclass랑 fare이 산관관계가 높다는 것만 파악"
      ]
    },
    {
      "cell_type": "markdown",
      "metadata": {
        "id": "x4gGAZzdY35t"
      },
      "source": [
        "### 생존여부와 다른 속성들간의 관계 파악"
      ]
    },
    {
      "cell_type": "markdown",
      "metadata": {
        "id": "oQseGE11ZE1q"
      },
      "source": [
        "#### Pclass 와 Survived"
      ]
    },
    {
      "cell_type": "code",
      "metadata": {
        "id": "1crGS8jVTv3U"
      },
      "source": [
        "sns.barplot(x='Pclass',y='Survived', data=pd_train)"
      ],
      "execution_count": null,
      "outputs": []
    },
    {
      "cell_type": "markdown",
      "metadata": {
        "id": "LUecXL9QZPzk"
      },
      "source": [
        "- 티켓 클래스가 낮을 수록 생존률 높음"
      ]
    },
    {
      "cell_type": "markdown",
      "metadata": {
        "id": "1mgHPt8UZlqT"
      },
      "source": [
        "#### Sex 와 Survived"
      ]
    },
    {
      "cell_type": "code",
      "metadata": {
        "id": "jGiTK8jjYjmQ"
      },
      "source": [
        "sns.barplot(x='Sex',y='Survived', data=pd_train)"
      ],
      "execution_count": null,
      "outputs": []
    },
    {
      "cell_type": "markdown",
      "metadata": {
        "id": "XlrIWVSoZpbi"
      },
      "source": [
        "- 여자의 생존율이 월등히 높음( 여자먼저 구출한 듯)"
      ]
    },
    {
      "cell_type": "markdown",
      "metadata": {
        "id": "uoBwlVuiZwLh"
      },
      "source": [
        "#### Age 와 Survived"
      ]
    },
    {
      "cell_type": "code",
      "metadata": {
        "id": "zd6QiRmeZiWE"
      },
      "source": [
        "g=sns.FacetGrid(pd_train,col='Survived')\r\n",
        "g.map(plt.hist,'Age',bins=10)\r\n",
        "plt.show()"
      ],
      "execution_count": null,
      "outputs": []
    },
    {
      "cell_type": "markdown",
      "metadata": {
        "id": "4WNZ3G9kfA-4"
      },
      "source": [
        "- 특이한 점은 10세 이하 아이들의 생존확률이 눈에 띄게 높다 ( 아마 아이들 먼저 구출하려고 해서 그런 듯)"
      ]
    },
    {
      "cell_type": "markdown",
      "metadata": {
        "id": "NezMaiVEbNrC"
      },
      "source": [
        "#### SibSp  와 Survived"
      ]
    },
    {
      "cell_type": "code",
      "metadata": {
        "id": "DQzlYnxsZ3pE"
      },
      "source": [
        "sns.barplot(x='SibSp',y='Survived', data=pd_train)"
      ],
      "execution_count": null,
      "outputs": []
    },
    {
      "cell_type": "markdown",
      "metadata": {
        "id": "9I2t6Ewnbh8S"
      },
      "source": [
        "- 큰 연관성은 안보인다."
      ]
    },
    {
      "cell_type": "markdown",
      "metadata": {
        "id": "cGIdvR-fbyCH"
      },
      "source": [
        "#### Parch 와 Survived"
      ]
    },
    {
      "cell_type": "code",
      "metadata": {
        "id": "UFlQKCdCbhG3"
      },
      "source": [
        "sns.barplot(x='Parch',y='Survived', data=pd_train)"
      ],
      "execution_count": null,
      "outputs": []
    },
    {
      "cell_type": "markdown",
      "metadata": {
        "id": "_0QCXyfFb_Nk"
      },
      "source": [
        "- 부모,자녀의 수가 1,2,3 명 있는 사람이 없는 사람보다는 생존율이 높다( 아마 부모,자녀를 지키려고 생존욕구가 더 클 것으로 생각)\r\n",
        "- 하지만 부모자녀가 5명인 사람들의 생존율이 제일 낮음( 사람이 너무많아 생존에 불리했을 것으로 생각)"
      ]
    },
    {
      "cell_type": "markdown",
      "metadata": {
        "id": "aQxIUKDwcmWX"
      },
      "source": [
        "#### Fare 와 Survived"
      ]
    },
    {
      "cell_type": "code",
      "metadata": {
        "id": "vs_aCXX3cws-"
      },
      "source": [
        "g=sns.FacetGrid(pd_train,col='Survived')\r\n",
        "g.map(plt.hist,'Fare',bins=20)\r\n",
        "plt.show()"
      ],
      "execution_count": null,
      "outputs": []
    },
    {
      "cell_type": "markdown",
      "metadata": {
        "id": "YpLQtxP2eSqp"
      },
      "source": [
        "- 낮은요금의 승객보다 높은 요금의 승객의 생존율이 더 높다"
      ]
    },
    {
      "cell_type": "markdown",
      "metadata": {
        "id": "F31k_DTneaFu"
      },
      "source": [
        "#### Embarked 와 Survived"
      ]
    },
    {
      "cell_type": "code",
      "metadata": {
        "id": "msHqho9Mebhi"
      },
      "source": [
        "sns.barplot(x='Embarked',y='Survived', data=pd_train)"
      ],
      "execution_count": null,
      "outputs": []
    },
    {
      "cell_type": "markdown",
      "metadata": {
        "id": "gVetQoJGeoHH"
      },
      "source": [
        "- c 포트에서 탑승한 사람이 생존율 높음"
      ]
    },
    {
      "cell_type": "markdown",
      "metadata": {
        "id": "HLDJOHtaoeyU"
      },
      "source": [
        "### 상자화 한 후 시각화 재확인"
      ]
    },
    {
      "cell_type": "code",
      "metadata": {
        "id": "zoKjx7yComvH"
      },
      "source": [
        "def make_bins(d, col, factor=2):\r\n",
        "    rounding = lambda x: np.around(x / factor)\r\n",
        "    d[col] = d[col].apply(rounding)\r\n",
        "    return d\r\n",
        "\r\n",
        "t = make_bins(pd_train.copy(True), 'Age', 2)\r\n",
        "sns.barplot(x=\"Age\", y=\"Survived\", data=t);"
      ],
      "execution_count": null,
      "outputs": []
    },
    {
      "cell_type": "code",
      "metadata": {
        "id": "AAUaGVNgo-Nx"
      },
      "source": [
        "g = sns.FacetGrid(pd_train, col='Survived')\r\n",
        "g.map(plt.hist, 'Age', bins=20);"
      ],
      "execution_count": null,
      "outputs": []
    },
    {
      "cell_type": "code",
      "metadata": {
        "id": "7JhkkPiDpALZ"
      },
      "source": [
        "t = make_bins(pd_train, 'Fare', 10)\r\n",
        "sns.barplot(x=\"Fare\", y=\"Survived\", data=t);"
      ],
      "execution_count": null,
      "outputs": []
    },
    {
      "cell_type": "code",
      "metadata": {
        "id": "FAnir6G2pB5s"
      },
      "source": [
        "sns.barplot(x=\"Embarked\", y=\"Survived\", data=pd_train);"
      ],
      "execution_count": null,
      "outputs": []
    },
    {
      "cell_type": "markdown",
      "metadata": {
        "id": "iPMhosFujbEo"
      },
      "source": [
        "### 분석 결과"
      ]
    },
    {
      "cell_type": "markdown",
      "metadata": {
        "id": "AZBj2oamjelY"
      },
      "source": [
        "- 생존 속성과 크게 연관이 있는것은 pclass, sex, age, embarked로 보임\r\n",
        "- name은 id로 대체되서 누락시킬 에정\r\n",
        "- SibSp,Parch 는 나중에 점수 개선시 넣어볼 예정\r\n",
        "- Fare는 pclass와 같다고 생각해 누락\r\n",
        "- cabin 은 결측치가 너무많아 누락"
      ]
    },
    {
      "cell_type": "markdown",
      "metadata": {
        "id": "77K8SPGzfaW-"
      },
      "source": [
        "### 학습 데이터 전처리"
      ]
    },
    {
      "cell_type": "markdown",
      "metadata": {
        "id": "ZrIm-uj5hbYm"
      },
      "source": [
        "#### 주요 속성만 가져오기"
      ]
    },
    {
      "cell_type": "code",
      "metadata": {
        "id": "czFGYweAemFZ"
      },
      "source": [
        "train_set = pd_train[['Pclass','Sex','Age','Embarked','Survived']]\r\n",
        "train_set"
      ],
      "execution_count": null,
      "outputs": []
    },
    {
      "cell_type": "markdown",
      "metadata": {
        "id": "BVj7BOvzrF2_"
      },
      "source": [
        "#### age 결측치 처리 - 1 (sub 파일)"
      ]
    },
    {
      "cell_type": "code",
      "metadata": {
        "id": "LQB0fwWlr1rU"
      },
      "source": [
        "#sub=pd_train[[\"Pclass\", \"Sex\",\"Embarked\",\"Survived\"]]\r\n",
        "sub=pd_train[[\"Pclass\", \"Sex\", \"Age\",\"Embarked\",\"Survived\"]]\r\n",
        "sub"
      ],
      "execution_count": null,
      "outputs": []
    },
    {
      "cell_type": "code",
      "metadata": {
        "id": "soXlAd1qr3bp"
      },
      "source": [
        "sub.isnull().sum()"
      ],
      "execution_count": null,
      "outputs": []
    },
    {
      "cell_type": "code",
      "metadata": {
        "id": "te6ng0v-r5Ad"
      },
      "source": [
        "sub['Embarked'] = sub['Embarked'].fillna(value='C')"
      ],
      "execution_count": null,
      "outputs": []
    },
    {
      "cell_type": "code",
      "metadata": {
        "id": "hRkLDM-Kr6cM"
      },
      "source": [
        "sub.isnull().sum()"
      ],
      "execution_count": null,
      "outputs": []
    },
    {
      "cell_type": "code",
      "metadata": {
        "id": "jccpTK4jr7k6"
      },
      "source": [
        "g = sns.FacetGrid(pd_train, col='Pclass')\r\n",
        "g.map(plt.hist, 'Age', bins=20);"
      ],
      "execution_count": null,
      "outputs": []
    },
    {
      "cell_type": "code",
      "metadata": {
        "id": "_RR7DxCyr9Ab"
      },
      "source": [
        "g = sns.FacetGrid(pd_train, col='Sex')\r\n",
        "g.map(plt.hist, 'Age', bins=20);"
      ],
      "execution_count": null,
      "outputs": []
    },
    {
      "cell_type": "code",
      "metadata": {
        "id": "tGrpWEyjrlhI"
      },
      "source": [
        "avg_age = sub.groupby(['Pclass', 'Sex'], as_index=False).mean()\r\n",
        "\r\n",
        "avg_age"
      ],
      "execution_count": null,
      "outputs": []
    },
    {
      "cell_type": "code",
      "metadata": {
        "id": "wnn2BMxGrovG"
      },
      "source": [
        "sub.loc[sub['Age'].isnull()&(sub['Pclass'] == 1)&(sub['Sex'] == 'female'),'Age'] = avg_age['Age'][0]\r\n",
        "sub.loc[sub['Age'].isnull()&(sub['Pclass'] == 1)&(sub['Sex'] == 'male'),'Age' ]= avg_age['Age'][1]\r\n",
        "\r\n",
        "sub.loc[sub['Age'].isnull()&(sub['Pclass'] == 2)&(sub['Sex'] == 'female'),'Age'] = avg_age['Age'][2]\r\n",
        "sub.loc[sub['Age'].isnull()&(sub['Pclass'] == 2)&(sub['Sex'] == 'male'),'Age' ]= avg_age['Age'][3]\r\n",
        "\r\n",
        "sub.loc[sub['Age'].isnull()&(sub['Pclass'] == 3)&(sub['Sex'] == 'female'),'Age'] = avg_age['Age'][4]\r\n",
        "sub.loc[sub['Age'].isnull()&(sub['Pclass'] == 3)&(sub['Sex'] == 'male'),'Age' ]= avg_age['Age'][5]"
      ],
      "execution_count": null,
      "outputs": []
    },
    {
      "cell_type": "code",
      "metadata": {
        "id": "cptQTTXJrvLo"
      },
      "source": [
        "# 확인\r\n",
        "g = sns.FacetGrid(sub, col='Pclass')\r\n",
        "g.map(plt.hist, 'Age', bins=20);"
      ],
      "execution_count": null,
      "outputs": []
    },
    {
      "cell_type": "code",
      "metadata": {
        "id": "JUsO9mkGsAlR"
      },
      "source": [
        "sub.isnull().sum()"
      ],
      "execution_count": null,
      "outputs": []
    },
    {
      "cell_type": "markdown",
      "metadata": {
        "id": "z9PyuljXsZVo"
      },
      "source": [
        "#### 문자 숫자로 인코딩 후 모델링 (sub)"
      ]
    },
    {
      "cell_type": "code",
      "metadata": {
        "id": "yC5bGLNFsnih"
      },
      "source": [
        "from sklearn.preprocessing import LabelEncoder\r\n",
        "\r\n",
        "e=LabelEncoder()\r\n",
        "e.fit(sub['Sex'])\r\n",
        "sub['Sex']=e.transform(sub['Sex'])\r\n",
        "\r\n",
        "e.fit(sub['Embarked'])\r\n",
        "sub['Embarked']=e.transform(sub['Embarked'])"
      ],
      "execution_count": null,
      "outputs": []
    },
    {
      "cell_type": "code",
      "metadata": {
        "id": "GtuB4O4MsoUn"
      },
      "source": [
        "x_train = sub.iloc[:,:-1]\r\n",
        "y_train = sub.iloc[:,-1]\r\n",
        "x_train"
      ],
      "execution_count": null,
      "outputs": []
    },
    {
      "cell_type": "code",
      "metadata": {
        "id": "KxleUhBossW-"
      },
      "source": [
        "y_train"
      ],
      "execution_count": null,
      "outputs": []
    },
    {
      "cell_type": "code",
      "metadata": {
        "id": "Rv_Je1BzswKx"
      },
      "source": [
        "model=Sequential()\r\n",
        "model.add(Dense(64,input_dim=4,activation='relu'))\r\n",
        "model.add(Dense(24, activation='relu'))\r\n",
        "model.add(Dense(12, activation='relu'))\r\n",
        "model.add(Dense(1, activation='sigmoid'))\r\n",
        "\r\n",
        "#ad = optimizers.Adam(lr = 0.001)\r\n",
        "model.compile(loss='binary_crossentropy', optimizer='adam', metrics=['accuracy'])\r\n",
        "model.summary()"
      ],
      "execution_count": null,
      "outputs": []
    },
    {
      "cell_type": "code",
      "metadata": {
        "id": "5B8thKdPsyEv"
      },
      "source": [
        "# from keras.callbacks import ModelCheckpoint, EarlyStopping\r\n",
        "early_stopping_callback = EarlyStopping(monitor='val_loss', patience=70)"
      ],
      "execution_count": null,
      "outputs": []
    },
    {
      "cell_type": "code",
      "metadata": {
        "id": "--vWXJp1szYj"
      },
      "source": [
        "hist=model.fit(x_train, y_train, epochs=30000, batch_size=32, validation_split=0.2, callbacks=[early_stopping_callback])\r\n",
        "#hist=model.fit(x_train, y_train, epochs=170, batch_size=32, validation_split=0.2)"
      ],
      "execution_count": null,
      "outputs": []
    },
    {
      "cell_type": "code",
      "metadata": {
        "id": "OseHMhJFs2Sq"
      },
      "source": [
        "import matplotlib.pyplot as plt\r\n",
        "\r\n",
        "plt.figure(figsize=(12, 4))\r\n",
        "plt.subplot(1, 2, 1)\r\n",
        "plt.plot(hist.history['loss'], 'b-', label='loss')\r\n",
        "plt.plot(hist.history['val_loss'], 'r--', label='val_loss')\r\n",
        "plt.xlabel('Epoch')\r\n",
        "plt.legend()\r\n",
        "\r\n",
        "plt.figure(figsize=(12, 4))\r\n",
        "plt.subplot(1, 2, 1)\r\n",
        "plt.plot(hist.history['accuracy'], 'b-', label='accuracy')\r\n",
        "plt.plot(hist.history['val_accuracy'], 'r--', label='val_accuracy')\r\n",
        "plt.xlabel('Epoch')\r\n",
        "plt.legend()"
      ],
      "execution_count": null,
      "outputs": []
    },
    {
      "cell_type": "code",
      "metadata": {
        "id": "axC3SwQMs4v7"
      },
      "source": [
        "pd_test"
      ],
      "execution_count": null,
      "outputs": []
    },
    {
      "cell_type": "code",
      "metadata": {
        "id": "rcua2N_Ys5ZJ"
      },
      "source": [
        "test_data = pd_test[[\"Pclass\", \"Sex\", \"Age\", \"Embarked\"]]\r\n",
        "test_data.isnull().sum()"
      ],
      "execution_count": null,
      "outputs": []
    },
    {
      "cell_type": "code",
      "metadata": {
        "id": "nprBun0Ps6Vx"
      },
      "source": [
        "test_data.loc[test_data['Age'].isnull()&(test_data['Pclass'] == 1)&(test_data['Sex'] == 'female'),'Age'] = avg_age['Age'][0]\r\n",
        "test_data.loc[test_data['Age'].isnull()&(test_data['Pclass'] == 1)&(test_data['Sex'] == 'male'),'Age' ]= avg_age['Age'][1]\r\n",
        "\r\n",
        "test_data.loc[test_data['Age'].isnull()&(test_data['Pclass'] == 2)&(test_data['Sex'] == 'female'),'Age'] = avg_age['Age'][2]\r\n",
        "test_data.loc[test_data['Age'].isnull()&(test_data['Pclass'] == 2)&(test_data['Sex'] == 'male'),'Age' ]= avg_age['Age'][3]\r\n",
        "\r\n",
        "test_data.loc[test_data['Age'].isnull()&(test_data['Pclass'] == 3)&(test_data['Sex'] == 'female'),'Age'] = avg_age['Age'][4]\r\n",
        "test_data.loc[test_data['Age'].isnull()&(test_data['Pclass'] == 3)&(test_data['Sex'] == 'male'),'Age' ]= avg_age['Age'][5]"
      ],
      "execution_count": null,
      "outputs": []
    },
    {
      "cell_type": "code",
      "metadata": {
        "id": "9nrDYf06s-qq"
      },
      "source": [
        "test_data.isnull().sum()"
      ],
      "execution_count": null,
      "outputs": []
    },
    {
      "cell_type": "code",
      "metadata": {
        "id": "XDN4bXOrtAqf"
      },
      "source": [
        "test_data['Embarked'] = test_data['Embarked'].fillna(value='C')\r\n",
        "\r\n",
        "e=LabelEncoder()\r\n",
        "e.fit(test_data['Sex'])\r\n",
        "test_data['Sex']=e.transform(test_data['Sex'])\r\n",
        "e.fit(test_data['Embarked'])\r\n",
        "test_data['Embarked']=e.transform(test_data['Embarked'])\r\n",
        "\r\n",
        "test_data"
      ],
      "execution_count": null,
      "outputs": []
    },
    {
      "cell_type": "code",
      "metadata": {
        "id": "eArXT76BtCam"
      },
      "source": [
        "y_test = model.predict(test_data)\r\n",
        "y_test"
      ],
      "execution_count": null,
      "outputs": []
    },
    {
      "cell_type": "code",
      "metadata": {
        "id": "47xdWA1itDoP"
      },
      "source": [
        "len(y_test)"
      ],
      "execution_count": null,
      "outputs": []
    },
    {
      "cell_type": "code",
      "metadata": {
        "id": "gcRCknXYtEl5"
      },
      "source": [
        "pd_submit = pd.read_csv('gender_submission.csv')\r\n",
        "print(pd_submit)"
      ],
      "execution_count": null,
      "outputs": []
    },
    {
      "cell_type": "code",
      "metadata": {
        "id": "O4i5G6aVtF6z"
      },
      "source": [
        "for i in range(len(pd_submit)):\r\n",
        "  pd_submit['Survived'][i] = np.round(y_test[i]).astype(int)\r\n",
        "# pd_submit['Survived']= pd_submit['Survived'].astype(int)\r\n",
        "pd_submit"
      ],
      "execution_count": null,
      "outputs": []
    },
    {
      "cell_type": "code",
      "metadata": {
        "id": "mfxqKOHGtHZ4"
      },
      "source": [
        "pd_submit.to_csv(\"resul1t.csv\", index=False,header=True)"
      ],
      "execution_count": null,
      "outputs": []
    },
    {
      "cell_type": "code",
      "metadata": {
        "id": "BRTnSHa4tJKF"
      },
      "source": [
        "#!kaggle competitions submit -c titanic -f resul1t.csv -m \"Message\""
      ],
      "execution_count": null,
      "outputs": []
    },
    {
      "cell_type": "markdown",
      "metadata": {
        "id": "DUcI7Bo0jKbo"
      },
      "source": [
        "#### 결측치 처리 - 2 (drop)"
      ]
    },
    {
      "cell_type": "markdown",
      "metadata": {
        "id": "P0VdY2JalqFU"
      },
      "source": [
        "* drop(['Cabin'], axis=1) # 행이나 열 없애기\r\n",
        "* dropna(inplace=True) #nan 없애기, inplace는 실제 데이터값 채우기"
      ]
    },
    {
      "cell_type": "code",
      "metadata": {
        "id": "7K5KQtx7jRzz"
      },
      "source": [
        "train_set.dropna(inplace=True) #nan 없애기, inplace는 실제 데이터값 채우기\r\n",
        "train_set"
      ],
      "execution_count": null,
      "outputs": []
    },
    {
      "cell_type": "markdown",
      "metadata": {
        "id": "OkSkf_PKmaXQ"
      },
      "source": [
        "결측치 존재 행 삭제됨"
      ]
    },
    {
      "cell_type": "markdown",
      "metadata": {
        "id": "feP8j7wOmj30"
      },
      "source": [
        "#### 문자 숫자로 인코딩 후 모델링 (원파일)"
      ]
    },
    {
      "cell_type": "markdown",
      "metadata": {
        "id": "g7zG3dtaiG6V"
      },
      "source": [
        "자료형이 object 인 Sex,Embarked 숫자로 인코딩 해줘야 함"
      ]
    },
    {
      "cell_type": "markdown",
      "metadata": {
        "id": "oyy0LYIhn1Fy"
      },
      "source": [
        "sex 인코딩"
      ]
    },
    {
      "cell_type": "code",
      "metadata": {
        "id": "j7Nmd3HDmiX1"
      },
      "source": [
        "from sklearn.preprocessing import LabelEncoder\r\n",
        "\r\n",
        "e= LabelEncoder()\r\n",
        "e.fit(train_set['Sex'])\r\n",
        "train_set['Sex']=e.transform(train_set['Sex'])\r\n",
        "train_set"
      ],
      "execution_count": null,
      "outputs": []
    },
    {
      "cell_type": "markdown",
      "metadata": {
        "id": "weoi3Raxn8NZ"
      },
      "source": [
        "Embarked 인코딩"
      ]
    },
    {
      "cell_type": "code",
      "metadata": {
        "id": "0SmXdBDpiGAK"
      },
      "source": [
        "e= LabelEncoder()\r\n",
        "e.fit(train_set['Embarked'])\r\n",
        "train_set['Embarked']=e.transform(train_set['Embarked'])\r\n",
        "train_set"
      ],
      "execution_count": null,
      "outputs": []
    },
    {
      "cell_type": "code",
      "metadata": {
        "id": "PdUJ6RtKtUK5"
      },
      "source": [
        "x_train = train_set.iloc[:,:4]\r\n",
        "y_train = train_set.iloc[:,4]\r\n",
        "print(x_train,y_train)"
      ],
      "execution_count": null,
      "outputs": []
    },
    {
      "cell_type": "code",
      "metadata": {
        "id": "NHFHOAyAobUd"
      },
      "source": [
        "x_train = train_set.iloc[:,:4]\r\n",
        "y_train = train_set.iloc[:,4]\r\n",
        "print(x_train,y_train)"
      ],
      "execution_count": null,
      "outputs": []
    },
    {
      "cell_type": "markdown",
      "metadata": {
        "id": "1GupNYQltYMQ"
      },
      "source": [
        "dropout 성능 떨어짐"
      ]
    },
    {
      "cell_type": "code",
      "metadata": {
        "id": "XH7aaRJStXks"
      },
      "source": [
        "from keras.layers import Flatten, Dropout, BatchNormalization\r\n",
        "\r\n",
        "model = Sequential()\r\n",
        "model.add(Dense(32,input_dim=4,activation='relu'))\r\n",
        "#model.add(Dropout(0.1))  \r\n",
        "model.add(Dense(16,activation='relu'))\r\n",
        "#model.add(Dropout(0.1))  \r\n",
        "model.add(Dense(8,activation='relu'))\r\n",
        "#model.add(Dropout(0.1))  \r\n",
        "model.add(Dense(1,activation='sigmoid')) \r\n",
        "\r\n",
        "model.compile(loss='binary_crossentropy',optimizer='adam',metrics=['accuracy'])\r\n",
        "model.summary()"
      ],
      "execution_count": null,
      "outputs": []
    },
    {
      "cell_type": "markdown",
      "metadata": {
        "id": "7lh4nFggtfCI"
      },
      "source": [
        "생존 분류-> sigmoid 함수 사용"
      ]
    },
    {
      "cell_type": "markdown",
      "metadata": {
        "id": "1sejbt9WthNL"
      },
      "source": [
        "여러 제출 결과 이 모델에선 최상의 에포크 225와 배치사이즈 임"
      ]
    },
    {
      "cell_type": "code",
      "metadata": {
        "id": "8GRJhiKbti9E"
      },
      "source": [
        "model.fit(x_train,y_train,epochs=225,batch_size=10,validation_split=0.25)"
      ],
      "execution_count": null,
      "outputs": []
    },
    {
      "cell_type": "markdown",
      "metadata": {
        "id": "6-RoNmQYtlZW"
      },
      "source": [
        "test셋 전처리"
      ]
    },
    {
      "cell_type": "code",
      "metadata": {
        "id": "h7jPY1wctuid"
      },
      "source": [
        "pd_test"
      ],
      "execution_count": null,
      "outputs": []
    },
    {
      "cell_type": "code",
      "metadata": {
        "id": "GGlExqgFtvLX"
      },
      "source": [
        "test_set = pd_test[['Pclass','Sex','Age','Embarked']]\r\n",
        "test_set"
      ],
      "execution_count": null,
      "outputs": []
    },
    {
      "cell_type": "markdown",
      "metadata": {
        "id": "mTYv_-ymty2o"
      },
      "source": [
        "test셋 결측치 처리"
      ]
    },
    {
      "cell_type": "code",
      "metadata": {
        "id": "ub15HsHvt1uM"
      },
      "source": [
        "test_set=test_set.fillna(method='ffill') # 자신보다 앞에있는 값으로 nan 채움\r\n",
        "#test_set.fillna(method='bfill') # 자신보다 뒤에있는 값으로 nan 채움\r\n",
        "test_set"
      ],
      "execution_count": null,
      "outputs": []
    },
    {
      "cell_type": "markdown",
      "metadata": {
        "id": "fLItP_rsuJay"
      },
      "source": [
        "테스트셋 인코딩"
      ]
    },
    {
      "cell_type": "code",
      "metadata": {
        "id": "eL_8bkFnvPzw"
      },
      "source": [
        "from sklearn.preprocessing import LabelEncoder\r\n",
        "\r\n",
        "e=LabelEncoder()\r\n",
        "e.fit(test_set['Sex'])\r\n",
        "test_set['Sex'] = e.transform(test_set['Sex'])\r\n",
        "test_set"
      ],
      "execution_count": null,
      "outputs": []
    },
    {
      "cell_type": "code",
      "metadata": {
        "id": "5vR_16ZavSiP"
      },
      "source": [
        "e=LabelEncoder()\r\n",
        "e.fit(test_set['Embarked'])\r\n",
        "test_set['Embarked'] = e.transform(test_set['Embarked'])\r\n",
        "test_set"
      ],
      "execution_count": null,
      "outputs": []
    },
    {
      "cell_type": "markdown",
      "metadata": {
        "id": "uWU2lEi7vVEd"
      },
      "source": [
        "예측 값 생성"
      ]
    },
    {
      "cell_type": "code",
      "metadata": {
        "id": "Vwvw4Q2bvUgc"
      },
      "source": [
        "y_test = model.predict(test_set)\r\n",
        "y_test"
      ],
      "execution_count": null,
      "outputs": []
    },
    {
      "cell_type": "code",
      "metadata": {
        "id": "CxH8r3itvYx1"
      },
      "source": [
        "len(y_test)"
      ],
      "execution_count": null,
      "outputs": []
    },
    {
      "cell_type": "code",
      "metadata": {
        "id": "oT7V41LVvZ17"
      },
      "source": [
        "y_test = y_test.flatten() # [[1][2]]를 [1,2] 로\r\n",
        "y_test"
      ],
      "execution_count": null,
      "outputs": []
    },
    {
      "cell_type": "markdown",
      "metadata": {
        "id": "1Nu6Bz_KveKw"
      },
      "source": [
        "예측값 생존 0,1 두가지로 바꾸기"
      ]
    },
    {
      "cell_type": "code",
      "metadata": {
        "id": "GyDMODBXvemB"
      },
      "source": [
        "y_test = np.round(y_test).astype(int)\r\n",
        "y_test"
      ],
      "execution_count": null,
      "outputs": []
    },
    {
      "cell_type": "code",
      "metadata": {
        "id": "puUCeuj-vgyH"
      },
      "source": [
        "pd_submit = pd.read_csv('gender_submission.csv')\r\n",
        "pd_submit"
      ],
      "execution_count": null,
      "outputs": []
    },
    {
      "cell_type": "code",
      "metadata": {
        "id": "5ZwOfiLOviY6"
      },
      "source": [
        "submit = pd.DataFrame({'PassengerId':pd_submit['PassengerId'],'Survived':y_test})\r\n",
        "submit"
      ],
      "execution_count": null,
      "outputs": []
    },
    {
      "cell_type": "code",
      "metadata": {
        "id": "s-2COR4tvlEQ"
      },
      "source": [
        "submit.to_csv(\"submit8.csv\",index=False,header=True)"
      ],
      "execution_count": null,
      "outputs": []
    }
  ]
}