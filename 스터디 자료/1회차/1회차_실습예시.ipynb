{
  "nbformat": 4,
  "nbformat_minor": 0,
  "metadata": {
    "colab": {
      "name": "모딥_1회차_실습예시.ipynb",
      "provenance": [],
      "collapsed_sections": []
    },
    "kernelspec": {
      "name": "python3",
      "display_name": "Python 3"
    }
  },
  "cells": [
    {
      "cell_type": "markdown",
      "metadata": {
        "id": "JbfJ1gG7Ka_f"
      },
      "source": [
        "## 3장 선형회귀 실습"
      ]
    },
    {
      "cell_type": "markdown",
      "metadata": {
        "id": "ee0jMqslLUGx"
      },
      "source": [
        "## 최소 제곱법 \r\n",
        "\r\n"
      ]
    },
    {
      "cell_type": "code",
      "metadata": {
        "id": "JM8shTqGJc0-"
      },
      "source": [
        "import numpy as np\r\n",
        "import matplotlib.pyplot as plt"
      ],
      "execution_count": null,
      "outputs": []
    },
    {
      "cell_type": "code",
      "metadata": {
        "id": "YlloOrJALCV2"
      },
      "source": [
        "x =[2,4,6,8]\r\n",
        "y=[81,93,91,97]"
      ],
      "execution_count": null,
      "outputs": []
    },
    {
      "cell_type": "code",
      "metadata": {
        "colab": {
          "base_uri": "https://localhost:8080/"
        },
        "id": "f-DRynC3MOXk",
        "outputId": "f92a1396-601c-4559-bb4c-db1e5c1cf8ed"
      },
      "source": [
        "mean_x = np.mean(x)\r\n",
        "mean_y = np.mean(y)\r\n",
        "print(mean_x,mean_y)"
      ],
      "execution_count": null,
      "outputs": [
        {
          "output_type": "stream",
          "text": [
            "5.0 90.5\n"
          ],
          "name": "stdout"
        }
      ]
    },
    {
      "cell_type": "markdown",
      "metadata": {
        "id": "unNKsw4AM-aH"
      },
      "source": [
        "### 리스트로 만들고 Sum 으로 합 구하기\r\n"
      ]
    },
    {
      "cell_type": "code",
      "metadata": {
        "colab": {
          "base_uri": "https://localhost:8080/"
        },
        "id": "MyIJOadHMm2x",
        "outputId": "940096e9-7764-49ed-e801-d68e30ef855b"
      },
      "source": [
        "arr=[i-mean_x for i in x]\r\n",
        "arr"
      ],
      "execution_count": null,
      "outputs": [
        {
          "output_type": "execute_result",
          "data": {
            "text/plain": [
              "[-3.0, -1.0, 1.0, 3.0]"
            ]
          },
          "metadata": {
            "tags": []
          },
          "execution_count": 6
        }
      ]
    },
    {
      "cell_type": "code",
      "metadata": {
        "colab": {
          "base_uri": "https://localhost:8080/"
        },
        "id": "-5qR_HwXMW_g",
        "outputId": "13890cce-d1be-49f3-a50a-d6d63fade974"
      },
      "source": [
        "divisor = sum([(i-mean_x)**2 for i in x]) # 리스트 컴프리헨션 \r\n",
        "divisor # 분모"
      ],
      "execution_count": null,
      "outputs": [
        {
          "output_type": "execute_result",
          "data": {
            "text/plain": [
              "20.0"
            ]
          },
          "metadata": {
            "tags": []
          },
          "execution_count": 5
        }
      ]
    },
    {
      "cell_type": "code",
      "metadata": {
        "id": "qWufhVfWM7oL"
      },
      "source": [
        "def top(x,mx,y,my):\r\n",
        "  result = 0 \r\n",
        "  for i in range(len(x)):\r\n",
        "    result+=(x[i]-mx)*(y[i]-my)\r\n",
        "  return result "
      ],
      "execution_count": null,
      "outputs": []
    },
    {
      "cell_type": "code",
      "metadata": {
        "colab": {
          "base_uri": "https://localhost:8080/"
        },
        "id": "o7IVu5zIRIrz",
        "outputId": "ae0098d3-a00e-4838-bcfd-a341ed6e446f"
      },
      "source": [
        "dividend = top(x,mean_x,y,mean_y)\r\n",
        "dividend"
      ],
      "execution_count": null,
      "outputs": [
        {
          "output_type": "execute_result",
          "data": {
            "text/plain": [
              "46.0"
            ]
          },
          "metadata": {
            "tags": []
          },
          "execution_count": 8
        }
      ]
    },
    {
      "cell_type": "code",
      "metadata": {
        "colab": {
          "base_uri": "https://localhost:8080/"
        },
        "id": "GfoM0p3cRPmF",
        "outputId": "03654bfe-6828-4920-d5ab-43477dfe0b4c"
      },
      "source": [
        "a = dividend/divisor\r\n",
        "a"
      ],
      "execution_count": null,
      "outputs": [
        {
          "output_type": "execute_result",
          "data": {
            "text/plain": [
              "2.3"
            ]
          },
          "metadata": {
            "tags": []
          },
          "execution_count": 9
        }
      ]
    },
    {
      "cell_type": "code",
      "metadata": {
        "colab": {
          "base_uri": "https://localhost:8080/"
        },
        "id": "P_tn3Oc-RXXO",
        "outputId": "4c423ff0-77a1-4b7e-c9ec-39280307f7aa"
      },
      "source": [
        "b = mean_y-(mean_x*a)\r\n",
        "b"
      ],
      "execution_count": null,
      "outputs": [
        {
          "output_type": "execute_result",
          "data": {
            "text/plain": [
              "79.0"
            ]
          },
          "metadata": {
            "tags": []
          },
          "execution_count": 11
        }
      ]
    },
    {
      "cell_type": "markdown",
      "metadata": {
        "id": "pqVmp4iERmRS"
      },
      "source": [
        "## 그래프로 확인"
      ]
    },
    {
      "cell_type": "code",
      "metadata": {
        "colab": {
          "base_uri": "https://localhost:8080/",
          "height": 265
        },
        "id": "MK86PvoGRlac",
        "outputId": "91c6c56f-4f80-4b4d-d9bd-35d46b0b2276"
      },
      "source": [
        "plt.figure(1)\r\n",
        "plt.scatter(x,y)\r\n",
        "plt.grid()"
      ],
      "execution_count": null,
      "outputs": [
        {
          "output_type": "display_data",
          "data": {
            "image/png": "[encoded data removed]",
            "text/plain": [
              "<Figure size 432x288 with 1 Axes>"
            ]
          },
          "metadata": {
            "tags": [],
            "needs_background": "light"
          }
        }
      ]
    },
    {
      "cell_type": "code",
      "metadata": {
        "colab": {
          "base_uri": "https://localhost:8080/",
          "height": 265
        },
        "id": "8wCsQ_0NRcRZ",
        "outputId": "7300d308-29ac-42a3-ea88-acda8c41f96c"
      },
      "source": [
        "lin_x = np.linspace(1,8,100)\r\n",
        "f = a*lin_x + b\r\n",
        "plt.plot(lin_x,f,'r')\r\n",
        "plt.scatter(x,y)\r\n",
        "plt.grid()"
      ],
      "execution_count": null,
      "outputs": [
        {
          "output_type": "display_data",
          "data": {
            "image/png": "[encoded data removed]",
            "text/plain": [
              "<Figure size 432x288 with 1 Axes>"
            ]
          },
          "metadata": {
            "tags": [],
            "needs_background": "light"
          }
        }
      ]
    },
    {
      "cell_type": "markdown",
      "metadata": {
        "id": "FoJQyKk1VNzF"
      },
      "source": [
        "## 평균 제곱 오차 (Mean square error , MSE)"
      ]
    },
    {
      "cell_type": "code",
      "metadata": {
        "colab": {
          "base_uri": "https://localhost:8080/"
        },
        "id": "n8P9JkvtSURM",
        "outputId": "17410b1a-a5fc-4c95-808d-ab17e81d5803"
      },
      "source": [
        "fake_ab = [3,79] ## 나중에 값을 한번 바꿔보자\r\n",
        "data = [[2,81],[4,93],[6,91],[8,97]]\r\n",
        "x = [i[0] for i in data]\r\n",
        "y = [i[1] for i in data]\r\n",
        "print(x,y)"
      ],
      "execution_count": null,
      "outputs": [
        {
          "output_type": "stream",
          "text": [
            "[2, 4, 6, 8] [81, 93, 91, 97]\n"
          ],
          "name": "stdout"
        }
      ]
    },
    {
      "cell_type": "code",
      "metadata": {
        "id": "6OVYRjheV7RC"
      },
      "source": [
        "def pridict(x):\r\n",
        "  return fake_ab[0]*x+fake_ab[1] # ax+b"
      ],
      "execution_count": null,
      "outputs": []
    },
    {
      "cell_type": "code",
      "metadata": {
        "id": "WBhgj1w1XASM"
      },
      "source": [
        "def mse(y_hat,y):\r\n",
        "  return ((y_hat-y)**2).mean() # 제곱의 평균 "
      ],
      "execution_count": null,
      "outputs": []
    },
    {
      "cell_type": "code",
      "metadata": {
        "id": "sN68pyxVXTzy"
      },
      "source": [
        "def mse_val(predict_result,y):\r\n",
        "  return mse(np.array(predict_result),np.array(y)) # npArray 로 만들어서 보내줌 (.mean()사용 위해)\r\n"
      ],
      "execution_count": null,
      "outputs": []
    },
    {
      "cell_type": "code",
      "metadata": {
        "colab": {
          "base_uri": "https://localhost:8080/"
        },
        "id": "8S3GLdBIXoty",
        "outputId": "2c8ba3f1-4f22-42f0-d571-baa84f3055d9"
      },
      "source": [
        "predict_result =[]\r\n",
        "for i in range(len(x)):\r\n",
        "  predict_result.append(pridict(x[i]))\r\n",
        "  print(\"공부시간 = %.f , 실제점수 = %.f , 예측점수 = %.f \"%(x[i],y[i],pridict(x[i])))\r\n"
      ],
      "execution_count": null,
      "outputs": [
        {
          "output_type": "stream",
          "text": [
            "공부시간 = 2 , 실제점수 = 81 , 예측점수 = 85 \n",
            "공부시간 = 4 , 실제점수 = 93 , 예측점수 = 91 \n",
            "공부시간 = 6 , 실제점수 = 91 , 예측점수 = 97 \n",
            "공부시간 = 8 , 실제점수 = 97 , 예측점수 = 103 \n"
          ],
          "name": "stdout"
        }
      ]
    },
    {
      "cell_type": "code",
      "metadata": {
        "colab": {
          "base_uri": "https://localhost:8080/"
        },
        "id": "yRCSqI0HYa_p",
        "outputId": "a8b0ca25-f14e-4fc4-83d3-2227224f2363"
      },
      "source": [
        "print(\"MSE:\",mse_val(predict_result,y))"
      ],
      "execution_count": null,
      "outputs": [
        {
          "output_type": "stream",
          "text": [
            "MSE: 23.0\n"
          ],
          "name": "stdout"
        }
      ]
    },
    {
      "cell_type": "code",
      "metadata": {
        "colab": {
          "base_uri": "https://localhost:8080/",
          "height": 265
        },
        "id": "573jQg9OYqbZ",
        "outputId": "48466776-b49d-4575-c3be-1b2e6eb7757b"
      },
      "source": [
        "lin_x = np.linspace(1,8,100)\r\n",
        "f = fake_ab[0]*lin_x +fake_ab[1]\r\n",
        "plt.plot(lin_x,f,'r')\r\n",
        "plt.scatter(x,y)\r\n",
        "plt.grid()"
      ],
      "execution_count": null,
      "outputs": [
        {
          "output_type": "display_data",
          "data": {
            "image/png": "[encoded data removed]",
            "text/plain": [
              "<Figure size 432x288 with 1 Axes>"
            ]
          },
          "metadata": {
            "tags": [],
            "needs_background": "light"
          }
        }
      ]
    },
    {
      "cell_type": "markdown",
      "metadata": {
        "id": "QxuJBLwxZD1O"
      },
      "source": [
        "## Fake a,b 를 변경시키며 MSE 와 그래프를 확인 해 보자 "
      ]
    },
    {
      "cell_type": "markdown",
      "metadata": {
        "id": "0UDU4phCZTHC"
      },
      "source": [
        "## mse 가 최소가 되는 a,b 는 직접 찾기 힘들다\r\n",
        "## 찾는 방법은 무엇일까??\r\n",
        "> 경사하강법!! 다음시간에.."
      ]
    }
  ]
}