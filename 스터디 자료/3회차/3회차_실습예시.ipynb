{
  "nbformat": 4,
  "nbformat_minor": 0,
  "metadata": {
    "colab": {
      "name": "모딥_3회차_실습예시.ipynb",
      "provenance": []
    },
    "kernelspec": {
      "name": "python3",
      "display_name": "Python 3"
    }
  },
  "cells": [
    {
      "cell_type": "markdown",
      "metadata": {
        "id": "xIwz0aQsAOvD"
      },
      "source": [
        "## 5장 로지스틱 회귀"
      ]
    },
    {
      "cell_type": "code",
      "metadata": {
        "id": "KEpIPVkS_qEr"
      },
      "source": [
        "import numpy as np\r\n",
        "import matplotlib.pyplot as plt"
      ],
      "execution_count": null,
      "outputs": []
    },
    {
      "cell_type": "markdown",
      "metadata": {
        "id": "fWFzJw37MhNS"
      },
      "source": [
        "# 혹시 시간 있으면\r\n",
        "\r\n",
        " - $H(x)$ (hypothesis 가설 함수): 주어진 $x$ 값에 대해 예측을 어떻게 할 것인가 \r\n",
        "\r\n",
        " $H(x)=ax+b$\r\n",
        "\r\n",
        " - $cost(ax+b)(비용함수)=MSE$ : $H(x)$ 가 $y$ 를 얼마나 잘 예측했는가\r\n",
        "\r\n",
        "- cost function,loss function,objective function 비슷한 맥락에서 사용 \r\n",
        "\r\n",
        "[미묘한 차이 존재](https://blog.naver.com/PostView.nhn?blogId=qbxlvnf11&logNo=221386278997&parentCategoryNo=&categoryNo=&viewDate=&isShowPopularPosts=false&from=postView)\r\n",
        "\r\n",
        "용어 정리 ..??"
      ]
    },
    {
      "cell_type": "markdown",
      "metadata": {
        "id": "z6atEqHaHuBM"
      },
      "source": [
        "## 기존의 선형 함수와 MSE를 그대로 이용할 수 있을까?"
      ]
    },
    {
      "cell_type": "markdown",
      "metadata": {
        "id": "j5V2aAGBK3rT"
      },
      "source": [
        "### 가설 함수\r\n",
        "$$ y =ax +b $$\r\n",
        "왜안되나?\r\n",
        "-> 시그모이드 사용\r\n",
        "### 오차함수\r\n",
        "MSE ->\r\n",
        "왜 안되나?(극소점에 빠짐 nonconvex)\r\n",
        "-> binary cross entropy\r\n",
        "\r\n"
      ]
    },
    {
      "cell_type": "markdown",
      "metadata": {
        "id": "4kvA_TCSA68R"
      },
      "source": [
        "### 시그모이드 함수 -> 가설 함수\r\n",
        "$$ y = \\frac{1}{1+e^{-(ax+b)}} $$\r\n",
        "\r\n",
        "### 오차함수\r\n",
        "$$ cost(W) = -\\frac{1}{n} \\sum y \\log\\left(H(x)\\right) + (1-y) \\left( \\log(1-H(x) \\right) $$"
      ]
    },
    {
      "cell_type": "code",
      "metadata": {
        "colab": {
          "base_uri": "https://localhost:8080/"
        },
        "id": "XaS1cROHAgEY",
        "outputId": "3045963c-c995-4e50-984e-58be7daf53aa"
      },
      "source": [
        "# 데이터 설정\r\n",
        "\r\n",
        "data = [[2,False],[4,False],[6,False],[8,True],[10,True],[12,True],[14,True]] # 시험시간 , 합격 여부(True/합,False/불합)\r\n",
        "x_data = [i[0] for i in data]\r\n",
        "y_data = [i[1] for i in data]\r\n",
        "x_data,y_data"
      ],
      "execution_count": null,
      "outputs": [
        {
          "output_type": "execute_result",
          "data": {
            "text/plain": [
              "([2, 4, 6, 8, 10, 12, 14], [False, False, False, True, True, True, True])"
            ]
          },
          "metadata": {
            "tags": []
          },
          "execution_count": 40
        }
      ]
    },
    {
      "cell_type": "markdown",
      "metadata": {
        "id": "YYmkHrMtCaVr"
      },
      "source": [
        "## True,False 는 Boolean 형 \r\n",
        "true false 말고도 문자열 데이터도 존재 하기도 함\r\n",
        "\r\n",
        "-> 컴퓨터가 알아먹을수 있게 숫자로 바꿔줘야함 => 데이터 인코딩 "
      ]
    },
    {
      "cell_type": "code",
      "metadata": {
        "colab": {
          "base_uri": "https://localhost:8080/"
        },
        "id": "PA_M7uACB_Z1",
        "outputId": "ac422974-dd81-4380-a597-11426679b81d"
      },
      "source": [
        "y_data = list(map(int,y_data))\r\n",
        "y_data"
      ],
      "execution_count": null,
      "outputs": [
        {
          "output_type": "execute_result",
          "data": {
            "text/plain": [
              "[0, 0, 0, 1, 1, 1, 1]"
            ]
          },
          "metadata": {
            "tags": []
          },
          "execution_count": 41
        }
      ]
    },
    {
      "cell_type": "code",
      "metadata": {
        "colab": {
          "base_uri": "https://localhost:8080/",
          "height": 279
        },
        "id": "xVX4HAV1CWzB",
        "outputId": "5f5f3ac0-3d7b-42da-f17c-cb653e9e5766"
      },
      "source": [
        "plt.scatter(x_data,y_data)\r\n",
        "plt.xlabel('Hour')\r\n",
        "plt.grid(True)"
      ],
      "execution_count": null,
      "outputs": [
        {
          "output_type": "display_data",
          "data": {
            "image/png": "[encoded data removed]",
            "text/plain": [
              "<Figure size 432x288 with 1 Axes>"
            ]
          },
          "metadata": {
            "tags": [],
            "needs_background": "light"
          }
        }
      ]
    },
    {
      "cell_type": "markdown",
      "metadata": {
        "id": "hergbgZZDGrb"
      },
      "source": [
        "## 학습 단계"
      ]
    },
    {
      "cell_type": "code",
      "metadata": {
        "id": "3d7spkd3C6nv"
      },
      "source": [
        "## 시그모이드 함수 \r\n",
        "def sigmoid(x):\r\n",
        "  return 1/(1+np.e**(-x))"
      ],
      "execution_count": null,
      "outputs": []
    },
    {
      "cell_type": "code",
      "metadata": {
        "id": "p7-BOGrYDV5J"
      },
      "source": [
        "## 오차함수를 각각 a,b로 편 미분 \r\n",
        "a = 0\r\n",
        "b = 0\r\n",
        "#a,b 초기화\r\n",
        "epochs = 2001\r\n",
        "lr = 0.05"
      ],
      "execution_count": null,
      "outputs": []
    },
    {
      "cell_type": "markdown",
      "metadata": {
        "id": "jEAPoqU2L3R5"
      },
      "source": [
        "## 편미분 어렵나..? \r\n",
        "## binary cross entropy 언급?\r\n"
      ]
    },
    {
      "cell_type": "code",
      "metadata": {
        "colab": {
          "base_uri": "https://localhost:8080/"
        },
        "id": "wlWEe59RDs0M",
        "outputId": "6a173c21-4f04-4f1f-944d-0f970aab9c4e"
      },
      "source": [
        "for i in range(epochs):\r\n",
        "  for x,y in data:\r\n",
        "    # 미분값\r\n",
        "    a_diff = x*(sigmoid(a*x+b)-int(y))\r\n",
        "    b_diff = sigmoid(a*x+b)-int(y)\r\n",
        "    #갱신\r\n",
        "    a-= lr*a_diff\r\n",
        "    b-= lr*b_diff\r\n",
        "\r\n",
        "  if i%100==0:\r\n",
        "    print(\"epoch:.%f, a:%.4f , b:%.4f\"%(i,a,b))\r\n",
        "          "
      ],
      "execution_count": null,
      "outputs": [
        {
          "output_type": "stream",
          "text": [
            "epoch:.0.000000, a:0.2860 , b:-0.0029\n",
            "epoch:.100.000000, a:0.6458 , b:-3.2469\n",
            "epoch:.200.000000, a:0.8366 , b:-4.8272\n",
            "epoch:.300.000000, a:0.9717 , b:-5.9082\n",
            "epoch:.400.000000, a:1.0791 , b:-6.7520\n",
            "epoch:.500.000000, a:1.1698 , b:-7.4548\n",
            "epoch:.600.000000, a:1.2491 , b:-8.0630\n",
            "epoch:.700.000000, a:1.3200 , b:-8.6023\n",
            "epoch:.800.000000, a:1.3844 , b:-9.0889\n",
            "epoch:.900.000000, a:1.4436 , b:-9.5336\n",
            "epoch:.1000.000000, a:1.4985 , b:-9.9440\n",
            "epoch:.1100.000000, a:1.5497 , b:-10.3257\n",
            "epoch:.1200.000000, a:1.5978 , b:-10.6829\n",
            "epoch:.1300.000000, a:1.6432 , b:-11.0189\n",
            "epoch:.1400.000000, a:1.6863 , b:-11.3365\n",
            "epoch:.1500.000000, a:1.7272 , b:-11.6376\n",
            "epoch:.1600.000000, a:1.7662 , b:-11.9242\n",
            "epoch:.1700.000000, a:1.8036 , b:-12.1977\n",
            "epoch:.1800.000000, a:1.8394 , b:-12.4594\n",
            "epoch:.1900.000000, a:1.8737 , b:-12.7102\n",
            "epoch:.2000.000000, a:1.9068 , b:-12.9513\n"
          ],
          "name": "stdout"
        }
      ]
    },
    {
      "cell_type": "markdown",
      "metadata": {
        "id": "xhdqKX5xF5Vu"
      },
      "source": [
        "## 결과 확인"
      ]
    },
    {
      "cell_type": "code",
      "metadata": {
        "colab": {
          "base_uri": "https://localhost:8080/",
          "height": 297
        },
        "id": "9GLbCY_2D9ui",
        "outputId": "38544e5b-502d-4133-e2d3-2a9e1fb9b602"
      },
      "source": [
        "plt.scatter(x_data,y_data)\r\n",
        "plt.xlabel('Hour')\r\n",
        "\r\n",
        "x_range=(np.arange(0,15,0.1))\r\n",
        "plt.plot(x_range,np.array([sigmoid(a*x+b) for x in x_range]),'r')\r\n",
        "plt.grid(True)\r\n",
        "y_data"
      ],
      "execution_count": null,
      "outputs": [
        {
          "output_type": "execute_result",
          "data": {
            "text/plain": [
              "[0, 0, 0, 1, 1, 1, 1]"
            ]
          },
          "metadata": {
            "tags": []
          },
          "execution_count": 46
        },
        {
          "output_type": "display_data",
          "data": {
            "image/png": "[encoded data removed]",
            "text/plain": [
              "<Figure size 432x288 with 1 Axes>"
            ]
          },
          "metadata": {
            "tags": [],
            "needs_background": "light"
          }
        }
      ]
    },
    {
      "cell_type": "markdown",
      "metadata": {
        "id": "ihy6mIlhKU8J"
      },
      "source": [
        "3시간을 공부하면 합격하나?"
      ]
    },
    {
      "cell_type": "code",
      "metadata": {
        "colab": {
          "base_uri": "https://localhost:8080/"
        },
        "id": "fVwDTQdwGayH",
        "outputId": "ea6c8f8a-db71-4164-b5e0-99be52aa666d"
      },
      "source": [
        "print((sigmoid(a*3+b))>0.5) # 0.5 를 기준"
      ],
      "execution_count": null,
      "outputs": [
        {
          "output_type": "stream",
          "text": [
            "False\n"
          ],
          "name": "stdout"
        }
      ]
    },
    {
      "cell_type": "markdown",
      "metadata": {
        "id": "7qYQqfG5MAIf"
      },
      "source": [
        "## 0 1 , Yes NO 가 아닌 Class 1 2 3 이면?\r\n",
        "다중 분류 문제 -> 다음 12장에서  "
      ]
    },
    {
      "cell_type": "markdown",
      "metadata": {
        "id": "9C5eD0wYNLwJ"
      },
      "source": [
        "## 선형 회귀 , 분류 \r\n",
        "\r\n",
        "총정리 \r\n",
        "큰그림 정리 필요"
      ]
    },
    {
      "cell_type": "markdown",
      "metadata": {
        "id": "NOQn3tuMNWen"
      },
      "source": [
        "### 예측을 위해 가설함수 설정? (ax+b)\r\n",
        "\r\n",
        "### 얼마나 예측이 잘된건가 평가 -> 오차 함수(MSE)\r\n",
        "\r\n",
        "### 이 오차를 어떻게 줄여나갈 것인가 -> 경사하강법\r\n",
        "\r\n",
        "\r\n"
      ]
    }
  ]
}