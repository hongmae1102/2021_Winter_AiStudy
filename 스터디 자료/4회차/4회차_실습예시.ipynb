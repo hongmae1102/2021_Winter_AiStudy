{
  "nbformat": 4,
  "nbformat_minor": 0,
  "metadata": {
    "colab": {
      "name": "모딥_4회차_실습예시.ipynb",
      "provenance": [],
      "collapsed_sections": []
    },
    "kernelspec": {
      "name": "python3",
      "display_name": "Python 3"
    }
  },
  "cells": [
    {
      "cell_type": "markdown",
      "metadata": {
        "id": "eWda2NvjpxRS"
      },
      "source": [
        "## 6장 퍼셉트론\r\n",
        "\r\n",
        "### 용어 \r\n",
        "\r\n",
        "- 퍼셉트론\r\n",
        "- 가중치,가중합,바이어스,활성화 함수,은닉층\r\n",
        "\r\n",
        "## XOR 문제 ? "
      ]
    },
    {
      "cell_type": "markdown",
      "metadata": {
        "id": "iUdPFpPXqlGy"
      },
      "source": [
        "## 7장 다층 퍼셉트론 (MLP)"
      ]
    },
    {
      "cell_type": "code",
      "metadata": {
        "id": "Ug-EaGEJQVgx"
      },
      "source": [
        "import numpy as np"
      ],
      "execution_count": null,
      "outputs": []
    },
    {
      "cell_type": "code",
      "metadata": {
        "id": "INopkIXsxnHp"
      },
      "source": [
        "w11 = np.array([-2,-2])\r\n",
        "w12 = np.array([2,2])\r\n",
        "w2 =np.array([1,1])\r\n",
        "b1 = 3\r\n",
        "b2 = -1\r\n",
        "b3 = -1"
      ],
      "execution_count": null,
      "outputs": []
    },
    {
      "cell_type": "code",
      "metadata": {
        "id": "ufL8lJ7LxnFH"
      },
      "source": [
        "def MLP(x,w,b):\r\n",
        "  y =np.sum(w*x)+b\r\n",
        "  if y<=0:\r\n",
        "    return 0\r\n",
        "  return 1\r\n",
        "  "
      ],
      "execution_count": null,
      "outputs": []
    },
    {
      "cell_type": "code",
      "metadata": {
        "id": "GHR-mER0xnCd"
      },
      "source": [
        "def NAND(x1,x2):\r\n",
        "  return MLP(np.array([x1,x2]),w11,b1)"
      ],
      "execution_count": null,
      "outputs": []
    },
    {
      "cell_type": "code",
      "metadata": {
        "id": "u-IRA5zUxl3K"
      },
      "source": [
        "def OR(x1,x2):\r\n",
        "  return MLP(np.array([x1,x2]),w12,b2)"
      ],
      "execution_count": null,
      "outputs": []
    },
    {
      "cell_type": "code",
      "metadata": {
        "id": "1NaYsKMqyPIv"
      },
      "source": [
        "def AND(x1,x2):\r\n",
        "  return MLP(np.array([x1,x2]),w2,b3)"
      ],
      "execution_count": null,
      "outputs": []
    },
    {
      "cell_type": "code",
      "metadata": {
        "id": "cKg7uyH_yPGM"
      },
      "source": [
        "def XOR(x1,x2):\r\n",
        "  return AND(NAND(x1,x2),OR(x1,x2))"
      ],
      "execution_count": null,
      "outputs": []
    },
    {
      "cell_type": "code",
      "metadata": {
        "colab": {
          "base_uri": "https://localhost:8080/"
        },
        "id": "vNw3-yIsyO8g",
        "outputId": "e9cbd973-e953-4488-8b3d-f50c08806832"
      },
      "source": [
        "# 결과 출력\r\n",
        "for x in [(0,0),(1,0),(0,1),(1,1)]:\r\n",
        "  y = XOR(x[0],x[1])\r\n",
        "  print(\"입력 \"+str(x)+\"출력 \"+str(y))"
      ],
      "execution_count": null,
      "outputs": [
        {
          "output_type": "stream",
          "text": [
            "입력 (0, 0)출력 0\n",
            "입력 (1, 0)출력 1\n",
            "입력 (0, 1)출력 1\n",
            "입력 (1, 1)출력 0\n"
          ],
          "name": "stdout"
        }
      ]
    },
    {
      "cell_type": "markdown",
      "metadata": {
        "id": "KtgkfTkFt38V"
      },
      "source": [
        "## 8장 오차 역전파\r\n",
        "\r\n",
        "개념은 설명하되 자세한 내용과 구현 실습은 \r\n",
        "### 심화과정으로 넘김\r\n",
        "\r\n",
        "- (책)밑바닥 부터 시작하는 딥러닝 1\r\n",
        "- (책) 신경망 첫걸음 \r\n",
        "- 이 책 심화학습 1 2 에도 있음 \r\n",
        "\r\n",
        "약간의 수학수식과 아무 라이브러리 없이 신경망을 코드로 짜놓음"
      ]
    },
    {
      "cell_type": "markdown",
      "metadata": {
        "id": "nYVO5wmlti1s"
      },
      "source": [
        "## 9장 신경망에서 딥러닝으로"
      ]
    },
    {
      "cell_type": "code",
      "metadata": {
        "id": "cFTRB-WoqxVy"
      },
      "source": [
        "from tensorflow.keras import optimizers\r\n",
        "from tensorflow.keras import activations\r\n",
        "from tensorflow.keras import losses"
      ],
      "execution_count": null,
      "outputs": []
    },
    {
      "cell_type": "markdown",
      "metadata": {
        "id": "QaEMnoxUr2yH"
      },
      "source": [
        "## 케라스 내 loss 들 "
      ]
    },
    {
      "cell_type": "code",
      "metadata": {
        "id": "ESWUQUcwrlby"
      },
      "source": [
        "losses.MSE() # MSE \r\n",
        "losses.binary_crossentropy() # 로지스틱 회귀(이진 분류) 에서\r\n",
        "losses.categorical_crossentropy() # 다중 분류에서"
      ],
      "execution_count": null,
      "outputs": []
    },
    {
      "cell_type": "markdown",
      "metadata": {
        "id": "E00GnHiasPf8"
      },
      "source": [
        "## 활성화 함수들\r\n",
        "\r\n",
        "- 시그모이드 함수 사용시 기울기 소실 문제 발생 \r\n",
        "- 아래와 같은 다른 함수들 도입도 해봄"
      ]
    },
    {
      "cell_type": "code",
      "metadata": {
        "id": "_PUZ349ZrQKS"
      },
      "source": [
        "activations.relu() # ReLu\r\n",
        "activations.sigmoid() # 시그모이드\r\n",
        "activations.tanh() # 하이퍼볼릭 탄젠트"
      ],
      "execution_count": null,
      "outputs": []
    },
    {
      "cell_type": "markdown",
      "metadata": {
        "id": "TAKzc48_sdnk"
      },
      "source": [
        "## 고급 경사 하강 법들"
      ]
    },
    {
      "cell_type": "markdown",
      "metadata": {
        "id": "TibPG5fus_1z"
      },
      "source": [
        "## [여기 한번 참고](https://www.google.com/url?sa=i&url=https%3A%2F%2Fnewsight.tistory.com%2F224&psig=AOvVaw2LIc-iS7do99fF7i4o917k&ust=1610610254640000&source=images&cd=vfe&ved=0CAIQjRxqFwoTCJCW-PO0mO4CFQAAAAAdAAAAABAD)\r\n",
        "\r\n",
        "- 수학적으로 설명 -> 심화과정\r\n",
        "- 우리는 아직 이런게 있다 하고 케라스에서 불러와서 쓴다\r\n",
        "- 추후 필요할때 공부하기로 하자 "
      ]
    },
    {
      "cell_type": "code",
      "metadata": {
        "id": "1a6jvTeeQaTu"
      },
      "source": [
        "optimizers.Adam(learning_rate=0.002) # Adam\r\n",
        "optimizers.SGD(learning_rate=0.002) # 확률적 경사하강법 SGD\r\n",
        "optimizers.RMSprop(learning_rate=0.001)  # RMSprop"
      ],
      "execution_count": null,
      "outputs": []
    }
  ]
}